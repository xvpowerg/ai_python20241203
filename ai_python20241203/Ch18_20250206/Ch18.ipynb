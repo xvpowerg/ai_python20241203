{
 "cells": [
  {
   "cell_type": "markdown",
   "id": "0599bb95-2efc-4957-bb59-3e59d1084939",
   "metadata": {},
   "source": [
    "## Pandas"
   ]
  },
  {
   "cell_type": "code",
   "execution_count": 7,
   "id": "1d01a409-11c1-484b-a309-ee8e5a568e65",
   "metadata": {},
   "outputs": [
    {
     "name": "stdout",
     "output_type": "stream",
     "text": [
      "[15 33 45 55]\n",
      "======================================================================\n",
      "0    15\n",
      "1    33\n",
      "2    45\n",
      "3    55\n",
      "dtype: int64\n",
      "======================================================================\n",
      "蘋果    15\n",
      "橘子    33\n",
      "梨子    45\n",
      "櫻桃    55\n",
      "dtype: int64\n",
      "======================================================================\n",
      "33\n",
      "======================================================================\n",
      "45\n"
     ]
    },
    {
     "name": "stderr",
     "output_type": "stream",
     "text": [
      "C:\\Users\\xvpow\\AppData\\Local\\Temp\\ipykernel_10356\\68864524.py:16: FutureWarning: Series.__getitem__ treating keys as positions is deprecated. In a future version, integer keys will always be treated as labels (consistent with DataFrame behavior). To access a value by position, use `ser.iloc[pos]`\n",
      "  print(s2[2])\n"
     ]
    }
   ],
   "source": [
    "import pandas as pd\n",
    "import numpy as np\n",
    "fruits  = ['蘋果','橘子','梨子','櫻桃']\n",
    "quantities = [15,33,45,55]\n",
    "n1 = np.array(quantities)\n",
    "s1 = pd.Series(quantities)\n",
    "s2 = pd.Series(quantities,index = fruits)\n",
    "print(n1)\n",
    "print(\"=\"*70)\n",
    "print(s1)\n",
    "print(\"=\"*70)\n",
    "print(s2)\n",
    "print(\"=\"*70)\n",
    "print(s2[\"橘子\"])\n",
    "print(\"=\"*70)\n",
    "print(s2[2])"
   ]
  },
  {
   "cell_type": "code",
   "execution_count": 11,
   "id": "d29ee55a-dcdc-492c-b5b0-a989926c779b",
   "metadata": {},
   "outputs": [
    {
     "name": "stdout",
     "output_type": "stream",
     "text": [
      "39.0\n",
      "37.0\n",
      "15\n",
      "55\n",
      "count     4.000000\n",
      "mean     37.000000\n",
      "std      17.204651\n",
      "min      15.000000\n",
      "25%      28.500000\n",
      "50%      39.000000\n",
      "75%      47.500000\n",
      "max      55.000000\n",
      "dtype: float64\n"
     ]
    }
   ],
   "source": [
    "import pandas as pd\n",
    "import numpy as np\n",
    "fruits  = ['蘋果','橘子','梨子','櫻桃']\n",
    "quantities = [15,33,45,55]\n",
    "s2 = pd.Series(quantities,index = fruits)\n",
    "print(s2.median())\n",
    "print(s2.mean())\n",
    "print(s2.min())\n",
    "print(s2.max())\n",
    "print(s2.describe())"
   ]
  },
  {
   "cell_type": "code",
   "execution_count": 22,
   "id": "e021d1ca-137f-4520-a28b-0df3580b5077",
   "metadata": {},
   "outputs": [
    {
     "name": "stdout",
     "output_type": "stream",
     "text": [
      "<class 'dict'>\n",
      "{'Name': ['Tom', 'Jack', 'Steve', 'Ricky'], 'Age': [28, 34, 29, 42]}\n",
      "    Name  Age\n",
      "0    Tom   28\n",
      "1   Jack   34\n",
      "2  Steve   29\n",
      "3  Ricky   42\n",
      "====================\n",
      "0      Tom\n",
      "1     Jack\n",
      "2    Steve\n",
      "3    Ricky\n",
      "Name: Name, dtype: object\n",
      "       Name  Age\n",
      "man1    Tom   28\n",
      "man2   Jack   34\n",
      "man3  Steve   29\n",
      "man4  Ricky   42\n"
     ]
    }
   ],
   "source": [
    "import pandas as pd\n",
    "data = {\"Name\":['Tom','Jack','Steve',\"Ricky\"],\n",
    "       \"Age\":[28,34,29,42]}\n",
    "print(type(data))\n",
    "print(data)\n",
    "df = pd.DataFrame(data)\n",
    "print(df)\n",
    "print(\"=\"*20)\n",
    "print(df[\"Name\"])\n",
    "df2 = pd.DataFrame(data,index=[\"man1\",\"man2\",\"man3\",\"man4\"])\n",
    "print(df2)\n",
    "#print(df2[\"man2\"][\"Name\"])\n"
   ]
  },
  {
   "cell_type": "code",
   "execution_count": 24,
   "id": "d9eeca69-0363-4be4-b107-10b6db87ea6e",
   "metadata": {},
   "outputs": [
    {
     "name": "stdout",
     "output_type": "stream",
     "text": [
      "[[10 30]\n",
      " [20 40]]\n",
      "    0   1\n",
      "0  10  30\n",
      "1  20  40\n",
      "      col1  col2\n",
      "row1    10    30\n",
      "row2    20    40\n"
     ]
    }
   ],
   "source": [
    "import  pandas as pd\n",
    "import  numpy as np\n",
    "array1=np.array([[10,30],[20,40]])\n",
    "\n",
    "print(array1)\n",
    "df=pd.DataFrame(array1)\n",
    "print(df)\n",
    "df.columns = ['col1','col2']\n",
    "df.index = [\"row1\",\"row2\"]\n",
    "print(df)\n"
   ]
  },
  {
   "cell_type": "code",
   "execution_count": 25,
   "id": "11d69ee9-509e-4339-8eae-3bbadd1273ff",
   "metadata": {},
   "outputs": [
    {
     "name": "stdout",
     "output_type": "stream",
     "text": [
      "   one  two\n",
      "a  1.0    1\n",
      "b  2.0    2\n",
      "c  3.0    3\n",
      "d  NaN    4\n"
     ]
    }
   ],
   "source": [
    "import pandas as pd\n",
    "d = {'one':pd.Series([1,2,3],index=['a','b','c']),\n",
    "     'two':pd.Series([1,2,3,4],index=['a','b','c','d'])}#index多一點\n",
    "df1 = pd.DataFrame(d)\n",
    "print(df1)"
   ]
  },
  {
   "cell_type": "markdown",
   "id": "666631d6-3afd-41fb-9696-2b1509d79ac3",
   "metadata": {},
   "source": [
    "## 合併"
   ]
  },
  {
   "cell_type": "code",
   "execution_count": 33,
   "id": "3d9b5573-8021-4a0b-8992-3c82ce443801",
   "metadata": {},
   "outputs": [
    {
     "name": "stdout",
     "output_type": "stream",
     "text": [
      "   one  two\n",
      "a  1.0    1\n",
      "b  2.0    2\n",
      "c  3.0    3\n",
      "d  NaN    4\n",
      "   one  two  three\n",
      "a  1.0    1     10\n",
      "b  2.0    2     11\n",
      "c  3.0    3     12\n",
      "d  NaN    4     13\n",
      "   one  two  three\n",
      "a   20   21     22\n",
      "b   23   24     25\n",
      "c   26   27     28\n",
      "    one  two  three\n",
      "a   1.0    1     10\n",
      "b   2.0    2     11\n",
      "c   3.0    3     12\n",
      "d   NaN    4     13\n",
      "e  20.0   21     22\n",
      "f  23.0   24     25\n",
      "g  26.0   27     28\n",
      "     0  1   2     3     4     5\n",
      "a  1.0  1  10  20.0  21.0  22.0\n",
      "b  2.0  2  11  23.0  24.0  25.0\n",
      "c  3.0  3  12  26.0  27.0  28.0\n",
      "d  NaN  4  13   NaN   NaN   NaN\n",
      "     a  b   c     d     e     f\n",
      "a  1.0  1  10  20.0  21.0  22.0\n",
      "b  2.0  2  11  23.0  24.0  25.0\n",
      "c  3.0  3  12  26.0  27.0  28.0\n",
      "d  NaN  4  13   NaN   NaN   NaN\n"
     ]
    }
   ],
   "source": [
    "import pandas as pd\n",
    "d = {'one':pd.Series([1,2,3],index=['a','b','c']),\n",
    "     'two':pd.Series([1,2,3,4],index=['a','b','c','d'])}#index多一點\n",
    "df1 = pd.DataFrame(d)\n",
    "print(df1)\n",
    "df1[\"three\"] = [10,11,12,13]\n",
    "print(df1)\n",
    "df2 = pd.DataFrame([[20, 21, 22],\n",
    "                    [23, 24, 25],\n",
    "                    [26,27, 28]], columns=['one', 'two', 'three'],index=['a','b','c'])\n",
    "print(df2)\n",
    "#預設軸0合併\n",
    "df3 = pd.concat([df1,df2],ignore_index=True)\n",
    "df3.index = [\"a\",\"b\",\"c\",\"d\",\"e\",\"f\",\"g\"]\n",
    "print(df3)\n",
    "df3 = pd.concat([df1,df2],axis=1,ignore_index=True)\n",
    "print(df3)\n",
    "df3.columns  = [\"a\",\"b\",\"c\",\"d\",\"e\",\"f\"] \n",
    "print(df3)"
   ]
  },
  {
   "cell_type": "markdown",
   "id": "deb1e633-5a23-4277-8235-89b6af060038",
   "metadata": {},
   "source": [
    "## 刪除"
   ]
  },
  {
   "cell_type": "code",
   "execution_count": 41,
   "id": "cc9f2bbb-725b-468c-810a-a61c3c3ea46a",
   "metadata": {},
   "outputs": [
    {
     "name": "stdout",
     "output_type": "stream",
     "text": [
      "   one  two  three\n",
      "a  1.0    1     10\n",
      "b  2.0    2     11\n",
      "c  3.0    3     12\n",
      "d  NaN    4     13\n",
      "   two  three\n",
      "a    1     10\n",
      "b    2     11\n",
      "c    3     12\n",
      "d    4     13\n",
      "   two  three\n",
      "a    1     10\n",
      "b    2     11\n",
      "c    3     12\n"
     ]
    }
   ],
   "source": [
    "import pandas as pd\n",
    "d = {'one':pd.Series([1,2,3],index=['a','b','c']),\n",
    "     'two':pd.Series([1,2,3,4],index=['a','b','c','d'])}\n",
    "df1 = pd.DataFrame(d)\n",
    "df1[\"three\"] = [10,11,12,13]\n",
    "print(df1)\n",
    "df1.drop(\"one\",axis=1,inplace=True)\n",
    "print(df1)\n",
    "df1.drop(\"d\",axis=0,inplace=True)\n",
    "print(df1)"
   ]
  },
  {
   "cell_type": "markdown",
   "id": "b6a49e80-24ac-43e8-9480-7da2361906cf",
   "metadata": {},
   "source": [
    "## Pandas 讀取CSV"
   ]
  },
  {
   "cell_type": "code",
   "execution_count": 44,
   "id": "73b3bad9-81fe-4b85-a370-4f831828d858",
   "metadata": {},
   "outputs": [
    {
     "name": "stdout",
     "output_type": "stream",
     "text": [
      "   a   b   c   d message\n",
      "0  1   2   3   4   hello\n",
      "1  5   6   7   8   world\n",
      "2  9  10  11  12    good\n",
      "=====================\n",
      "   0   1   2   3        4\n",
      "0  a   b   c   d  message\n",
      "1  1   2   3   4    hello\n",
      "2  5   6   7   8    world\n",
      "3  9  10  11  12     good\n",
      "=====================\n",
      "   A   B   C   D        E\n",
      "0  a   b   c   d  message\n",
      "1  1   2   3   4    hello\n",
      "2  5   6   7   8    world\n",
      "3  9  10  11  12     good\n"
     ]
    }
   ],
   "source": [
    "import pandas as pd\n",
    "df1 = pd.read_csv(\"./ex1.csv\")\n",
    "print(df1)\n",
    "print(\"=====================\")\n",
    "df1 = pd.read_csv(\"./ex1.csv\",header=None)\n",
    "print(df1)\n",
    "print(\"=====================\")\n",
    "df1 = pd.read_csv(\"./ex1.csv\",names=[\"A\",\"B\",\"C\",\"D\",\"E\"])\n",
    "print(df1)"
   ]
  },
  {
   "cell_type": "code",
   "execution_count": 45,
   "id": "9833f388-75d4-4a8c-b988-b8d4a17d1ad0",
   "metadata": {},
   "outputs": [
    {
     "name": "stdout",
     "output_type": "stream",
     "text": [
      "輸出df3a.csv完整資訊\n",
      "   name  population\n",
      "0   中正區      159598\n",
      "1   板橋區      551452\n",
      "2   桃園區      441287\n",
      "3   北屯區      275207\n",
      "4   安南區      192327\n",
      "5   三民區      343203\n",
      "6   大安區      309835\n",
      "7   永和區      222531\n",
      "8   八德區      198473\n",
      "9   前鎮區      189623\n",
      "10  鳳山區      359125\n",
      "11  信義區      225561\n",
      "12  新店區      302070\n"
     ]
    }
   ],
   "source": [
    "import pandas as pd\n",
    "df3a = pd.read_csv('df3a.csv')\n",
    "print('輸出df3a.csv完整資訊')\n",
    "print(df3a)"
   ]
  },
  {
   "cell_type": "code",
   "execution_count": 46,
   "id": "5c6402ab-6f60-49b7-b1da-f1c52e47d162",
   "metadata": {},
   "outputs": [
    {
     "name": "stdout",
     "output_type": "stream",
     "text": [
      "{'Name': ['犇', '中文', '龘', 'Ricky'], 'Age': [28, 34, 29, 42]}\n",
      "    Name  Age\n",
      "0      犇   28\n",
      "1     中文   34\n",
      "2      龘   29\n",
      "3  Ricky   42\n"
     ]
    }
   ],
   "source": [
    "import  pandas as pd\n",
    "#龘 (音踏)\n",
    "#犇(音奔)\n",
    "data={\n",
    "    'Name':['犇','中文','龘','Ricky'],\n",
    "    'Age':[28,34,29,42]\n",
    "}\n",
    "print(data)\n",
    "df=pd.DataFrame(data)\n",
    "print(df)\n",
    "df.to_html('df1.html',encoding=\"utf-8\")\n",
    "df.to_csv('df1a.csv')\n",
    "df.to_csv('df1b.csv',index=False)"
   ]
  },
  {
   "cell_type": "markdown",
   "id": "3c8afe6a-887c-4f26-90a9-1721e34a9545",
   "metadata": {},
   "source": [
    "## 讀寫Excel 需安裝套件\n",
    "pip install xlrd"
   ]
  },
  {
   "cell_type": "code",
   "execution_count": 1,
   "id": "f7f25a6a-8a95-4fa1-9899-2da977352c3f",
   "metadata": {},
   "outputs": [
    {
     "name": "stdout",
     "output_type": "stream",
     "text": [
      "{'Name': ['犇', '中文', '龘', 'Ricky'], 'Age': [28, 34, 29, 42]}\n"
     ]
    }
   ],
   "source": [
    "import  pandas as pd\n",
    "import  numpy as np\n",
    "#龘 (音踏)  犇(音奔)\n",
    "data={\n",
    "    'Name':['犇','中文','龘','Ricky'],\n",
    "    'Age':[28,34,29,42]\n",
    "}\n",
    "print(data)\n",
    "df=pd.DataFrame(data)\n",
    "df1=pd.DataFrame(np.arange(9).reshape(3,3),\n",
    "                 index=['a','c','d'],\n",
    "                 columns=['One','Two','Three'])\n",
    "\n",
    "writer =  pd.ExcelWriter(\"df.xlsx\")\n",
    "df.to_excel(writer,sheet_name=\"Sheet1\")\n",
    "df1.to_excel(writer,sheet_name=\"Sheetx2\")\n",
    "writer.close()\n"
   ]
  },
  {
   "cell_type": "code",
   "execution_count": 3,
   "id": "1d68a9c7-4e83-4bea-87aa-163cf555832d",
   "metadata": {},
   "outputs": [
    {
     "name": "stdout",
     "output_type": "stream",
     "text": [
      "   Unnamed: 0   Name  Age\n",
      "0           0      犇   28\n",
      "1           1     中文   34\n",
      "2           2      龘   29\n",
      "3           3  Ricky   42\n",
      "==================\n",
      "  Unnamed: 0  One  Two  Three\n",
      "0          a    0    1      2\n",
      "1          c    3    4      5\n",
      "2          d    6    7      8\n"
     ]
    }
   ],
   "source": [
    "import  pandas as pd\n",
    "import  numpy as np\n",
    "df = pd.read_excel(\"df.xlsx\")\n",
    "print(df)\n",
    "print(\"==================\")\n",
    "df = pd.read_excel(\"df.xlsx\",1)\n",
    "print(df)"
   ]
  },
  {
   "cell_type": "markdown",
   "id": "36494027-0bf8-48af-8019-a587983fa511",
   "metadata": {},
   "source": [
    "### 使用 loc(文字 m:n 會包含到n)\n",
    "+ \"location\" 的縮寫\n",
    "+ .loc[ ], 中括弧裡面是先 row 後 column，以逗號分開。\n",
    "+ row 與 column 要放入的是 row 標籤與 column 標籤。\n",
    "+ 可於 row 或 column 加入「：」 ，代表指定起訖範圍。"
   ]
  },
  {
   "cell_type": "code",
   "execution_count": 12,
   "id": "b40a2cbf-fb7d-416c-a316-b0153b8a65fa",
   "metadata": {},
   "outputs": [
    {
     "name": "stdout",
     "output_type": "stream",
     "text": [
      "    s   t   u   v   w   x   y   z\n",
      "a   0   1   2   3   4   5   6   7\n",
      "b   8   9  10  11  12  13  14  15\n",
      "c  16  17  18  19  20  21  22  23\n",
      "d  24  25  26  27  28  29  30  31\n",
      "e  32  33  34  35  36  37  38  39\n",
      "f  40  41  42  43  44  45  46  47\n",
      "\n",
      "s     8\n",
      "t     9\n",
      "u    10\n",
      "v    11\n",
      "w    12\n",
      "x    13\n",
      "y    14\n",
      "z    15\n",
      "Name: b, dtype: int32\n",
      "\n",
      "9\n",
      "\n",
      "    w   y\n",
      "c  20  22\n",
      "e  36  38\n",
      "\n",
      "    w   x   y\n",
      "c  20  21  22\n",
      "d  28  29  30\n",
      "e  36  37  38\n",
      "\n",
      "a     5\n",
      "b    13\n",
      "c    21\n",
      "d    29\n",
      "e    37\n",
      "f    45\n",
      "Name: x, dtype: int32\n"
     ]
    }
   ],
   "source": [
    "df=pd.DataFrame(\n",
    "    np.arange(48).reshape(6,8),\n",
    "    index=['a','b','c','d','e','f'],\n",
    "    columns=['s','t','u','v','w','x','y','z'])\n",
    "print(df)\n",
    "print()\n",
    "print(df.loc['b',:])\n",
    "print()\n",
    "print(df.loc['b','t'])\n",
    "print()\n",
    "print(df.loc[['c','e'],['w','y']])\n",
    "print()\n",
    "print(df.loc['c':'e','w':'y'])\n",
    "print()\n",
    "print(df.loc[:,\"x\"])"
   ]
  },
  {
   "cell_type": "markdown",
   "id": "28bda816-6164-43a3-a187-2ce0e351170c",
   "metadata": {},
   "source": [
    "### 使用 iloc\n",
    "+ iloc[ ] 與 loc 一樣，中括弧裡面也是先 row 後 column，行列標籤用逗號分開。\n",
    "+ 與 loc 不同的之處是，.iloc 是根據索引來進行選擇。"
   ]
  },
  {
   "cell_type": "code",
   "execution_count": 20,
   "id": "401fd0e9-9e24-4dd3-8b67-ec39fdaf03cd",
   "metadata": {},
   "outputs": [
    {
     "name": "stdout",
     "output_type": "stream",
     "text": [
      "    s   t   u   v   w   x   y   z\n",
      "a   0   1   2   3   4   5   6   7\n",
      "b   8   9  10  11  12  13  14  15\n",
      "c  16  17  18  19  20  21  22  23\n",
      "d  24  25  26  27  28  29  30  31\n",
      "e  32  33  34  35  36  37  38  39\n",
      "f  40  41  42  43  44  45  46  47\n",
      "\n",
      "s     8\n",
      "t     9\n",
      "u    10\n",
      "v    11\n",
      "w    12\n",
      "x    13\n",
      "y    14\n",
      "z    15\n",
      "Name: b, dtype: int32\n",
      "\n",
      "20\n",
      "\n",
      "    w   y\n",
      "c  20  22\n",
      "e  36  38\n",
      "\n",
      "    w   x   y\n",
      "c  20  21  22\n",
      "d  28  29  30\n",
      "e  36  37  38\n"
     ]
    }
   ],
   "source": [
    "import  pandas as pd\n",
    "import  numpy as np\n",
    "df=pd.DataFrame(\n",
    "    np.arange(48).reshape(6,8),\n",
    "    index=['a','b','c','d','e','f'],\n",
    "    columns=['s','t','u','v','w','x','y','z'])\n",
    "print(df)\n",
    "print()\n",
    "print(df.iloc[1,:])\n",
    "print()\n",
    "print(df.iloc[2,4])\n",
    "print()\n",
    "print(df.iloc[[2,4],[4,6]])\n",
    "print()\n",
    "print(df.iloc[2:5,4:7])"
   ]
  },
  {
   "cell_type": "markdown",
   "id": "9efefe02-3d08-4d49-b5c8-973a19188f15",
   "metadata": {},
   "source": [
    "### 查詢"
   ]
  },
  {
   "cell_type": "code",
   "execution_count": 25,
   "id": "e78a26dc-a0ca-4279-b6cd-76bc6733819d",
   "metadata": {},
   "outputs": [
    {
     "name": "stdout",
     "output_type": "stream",
     "text": [
      "          country  year         pop continent  lifeExp   gdpPercap\n",
      "0     Afghanistan  1952   8425333.0      Asia   28.801  779.445314\n",
      "1     Afghanistan  1957   9240934.0      Asia   30.332  820.853030\n",
      "2     Afghanistan  1962  10267083.0      Asia   31.997  853.100710\n",
      "3     Afghanistan  1967  11537966.0      Asia   34.020  836.197138\n",
      "4     Afghanistan  1972  13079460.0      Asia   36.088  739.981106\n",
      "...           ...   ...         ...       ...      ...         ...\n",
      "1699     Zimbabwe  1987   9216418.0    Africa   62.351  706.157306\n",
      "1700     Zimbabwe  1992  10704340.0    Africa   60.377  693.420786\n",
      "1701     Zimbabwe  1997  11404948.0    Africa   46.809  792.449960\n",
      "1702     Zimbabwe  2002  11926563.0    Africa   39.989  672.038623\n",
      "1703     Zimbabwe  2007  12311143.0    Africa   43.487  469.709298\n",
      "\n",
      "[1704 rows x 6 columns]\n",
      "country      1704\n",
      "year         1704\n",
      "pop          1704\n",
      "continent    1704\n",
      "lifeExp      1704\n",
      "gdpPercap    1704\n",
      "dtype: int64\n",
      "                 country  year         pop continent  lifeExp    gdpPercap\n",
      "10           Afghanistan  2002  25268405.0      Asia   42.129   726.734055\n",
      "22               Albania  2002   3508512.0    Europe   75.651  4604.211737\n",
      "34               Algeria  2002  31287142.0    Africa   70.994  5288.040382\n",
      "46                Angola  2002  10866106.0    Africa   41.003  2773.287312\n",
      "58             Argentina  2002  38331121.0  Americas   74.340  8797.640716\n",
      "...                  ...   ...         ...       ...      ...          ...\n",
      "1654             Vietnam  2002  80908147.0      Asia   73.017  1764.456677\n",
      "1666  West Bank and Gaza  2002   3389578.0      Asia   72.370  4515.487575\n",
      "1678          Yemen Rep.  2002  18701257.0      Asia   60.308  2234.820827\n",
      "1690              Zambia  2002  10595811.0    Africa   39.193  1071.613938\n",
      "1702            Zimbabwe  2002  11926563.0    Africa   39.989   672.038623\n",
      "\n",
      "[142 rows x 6 columns]\n",
      "                 country  year         pop continent  lifeExp    gdpPercap\n",
      "10           Afghanistan  2002  25268405.0      Asia   42.129   726.734055\n",
      "22               Albania  2002   3508512.0    Europe   75.651  4604.211737\n",
      "34               Algeria  2002  31287142.0    Africa   70.994  5288.040382\n",
      "46                Angola  2002  10866106.0    Africa   41.003  2773.287312\n",
      "58             Argentina  2002  38331121.0  Americas   74.340  8797.640716\n",
      "...                  ...   ...         ...       ...      ...          ...\n",
      "1654             Vietnam  2002  80908147.0      Asia   73.017  1764.456677\n",
      "1666  West Bank and Gaza  2002   3389578.0      Asia   72.370  4515.487575\n",
      "1678          Yemen Rep.  2002  18701257.0      Asia   60.308  2234.820827\n",
      "1690              Zambia  2002  10595811.0    Africa   39.193  1071.613938\n",
      "1702            Zimbabwe  2002  11926563.0    Africa   39.989   672.038623\n",
      "\n",
      "[142 rows x 6 columns]\n"
     ]
    }
   ],
   "source": [
    "import  pandas as pd\n",
    "data_url='http://bit.ly/2cLzoxH'\n",
    "gap1=pd.read_csv(data_url)\n",
    "print(gap1)\n",
    "print(gap1.count())\n",
    "is2002 = gap1['year'] == 2002\n",
    "#print(is2002)\n",
    "print(gap1[is2002])\n",
    "gap2 = gap1.query(\"year == 2002\")\n",
    "print(gap2)"
   ]
  },
  {
   "cell_type": "markdown",
   "id": "b8d7b21d-780c-4524-a84a-306f4a9c9b47",
   "metadata": {},
   "source": [
    "### in 與 not in\n",
    "\n",
    "+ Pandas 有 isin 方法，代表如果資料存在於 isin 方法內的比對對象，那就傳回 True。\n",
    "+ 如果比對對象是一個 dictionary：\n",
    "  + 首先判斷對應的 index 是否存在。\n",
    "  + 如果存在，接著判斷對應的位置是否存在。\n",
    "  + 如果不存在，那麼全部為 False。\n",
    "+ 如果是一個 DataFrame：\n",
    "  + 首先就是 column 名稱要存在。\n",
    "  + 原資料行列位置和對應的行列位置一一匹配，才返回 TRUE。\n",
    "+ 若要設計一個 not in 的分析語法，請在函數方法前面加個 ~ 即可。"
   ]
  },
  {
   "cell_type": "code",
   "execution_count": 28,
   "id": "263d29e5-d84e-4c60-b97a-af5071e4d064",
   "metadata": {},
   "outputs": [
    {
     "name": "stdout",
     "output_type": "stream",
     "text": [
      "          country  year         pop continent  lifeExp   gdpPercap\n",
      "0     Afghanistan  1952   8425333.0      Asia   28.801  779.445314\n",
      "1     Afghanistan  1957   9240934.0      Asia   30.332  820.853030\n",
      "2     Afghanistan  1962  10267083.0      Asia   31.997  853.100710\n",
      "3     Afghanistan  1967  11537966.0      Asia   34.020  836.197138\n",
      "4     Afghanistan  1972  13079460.0      Asia   36.088  739.981106\n",
      "...           ...   ...         ...       ...      ...         ...\n",
      "1699     Zimbabwe  1987   9216418.0    Africa   62.351  706.157306\n",
      "1700     Zimbabwe  1992  10704340.0    Africa   60.377  693.420786\n",
      "1701     Zimbabwe  1997  11404948.0    Africa   46.809  792.449960\n",
      "1702     Zimbabwe  2002  11926563.0    Africa   39.989  672.038623\n",
      "1703     Zimbabwe  2007  12311143.0    Africa   43.487  469.709298\n",
      "\n",
      "[1704 rows x 6 columns]\n",
      "想要查詢1997與2007年資料\n",
      "          country  year         pop continent  lifeExp    gdpPercap\n",
      "9     Afghanistan  1997  22227415.0      Asia   41.763   635.341351\n",
      "11    Afghanistan  2007  31889923.0      Asia   43.828   974.580338\n",
      "21        Albania  1997   3428038.0    Europe   72.950  3193.054604\n",
      "23        Albania  2007   3600523.0    Europe   76.423  5937.029526\n",
      "33        Algeria  1997  29072015.0    Africa   69.152  4797.295051\n",
      "...           ...   ...         ...       ...      ...          ...\n",
      "1679   Yemen Rep.  2007  22211743.0      Asia   62.698  2280.769906\n",
      "1689       Zambia  1997   9417789.0    Africa   40.238  1071.353818\n",
      "1691       Zambia  2007  11746035.0    Africa   42.384  1271.211593\n",
      "1701     Zimbabwe  1997  11404948.0    Africa   46.809   792.449960\n",
      "1703     Zimbabwe  2007  12311143.0    Africa   43.487   469.709298\n",
      "\n",
      "[284 rows x 6 columns]\n",
      "          country  year         pop continent  lifeExp    gdpPercap\n",
      "9     Afghanistan  1997  22227415.0      Asia   41.763   635.341351\n",
      "11    Afghanistan  2007  31889923.0      Asia   43.828   974.580338\n",
      "21        Albania  1997   3428038.0    Europe   72.950  3193.054604\n",
      "23        Albania  2007   3600523.0    Europe   76.423  5937.029526\n",
      "33        Algeria  1997  29072015.0    Africa   69.152  4797.295051\n",
      "...           ...   ...         ...       ...      ...          ...\n",
      "1679   Yemen Rep.  2007  22211743.0      Asia   62.698  2280.769906\n",
      "1689       Zambia  1997   9417789.0    Africa   40.238  1071.353818\n",
      "1691       Zambia  2007  11746035.0    Africa   42.384  1271.211593\n",
      "1701     Zimbabwe  1997  11404948.0    Africa   46.809   792.449960\n",
      "1703     Zimbabwe  2007  12311143.0    Africa   43.487   469.709298\n",
      "\n",
      "[284 rows x 6 columns]\n"
     ]
    }
   ],
   "source": [
    "import  pandas as pd\n",
    "data_url='http://bit.ly/2cLzoxH'\n",
    "gap1=pd.read_csv(data_url)\n",
    "print(gap1)\n",
    "print('想要查詢1997與2007年資料')\n",
    "is2020 = gap1['year'].isin([1997,2007])\n",
    "print(gap1[is2020])\n",
    "gap2 = gap1.query(\"year == 2007 or year == 1997\")\n",
    "print(gap2)"
   ]
  },
  {
   "cell_type": "code",
   "execution_count": 31,
   "id": "9593564b-4a14-404a-8fb3-949f9db9eeaf",
   "metadata": {},
   "outputs": [
    {
     "name": "stdout",
     "output_type": "stream",
     "text": [
      "          country  year         pop continent  lifeExp   gdpPercap\n",
      "0     Afghanistan  1952   8425333.0      Asia   28.801  779.445314\n",
      "1     Afghanistan  1957   9240934.0      Asia   30.332  820.853030\n",
      "2     Afghanistan  1962  10267083.0      Asia   31.997  853.100710\n",
      "3     Afghanistan  1967  11537966.0      Asia   34.020  836.197138\n",
      "4     Afghanistan  1972  13079460.0      Asia   36.088  739.981106\n",
      "...           ...   ...         ...       ...      ...         ...\n",
      "1699     Zimbabwe  1987   9216418.0    Africa   62.351  706.157306\n",
      "1700     Zimbabwe  1992  10704340.0    Africa   60.377  693.420786\n",
      "1701     Zimbabwe  1997  11404948.0    Africa   46.809  792.449960\n",
      "1702     Zimbabwe  2002  11926563.0    Africa   39.989  672.038623\n",
      "1703     Zimbabwe  2007  12311143.0    Africa   43.487  469.709298\n",
      "\n",
      "[1704 rows x 6 columns]\n",
      "想要查詢1997到2007年資料\n",
      "          country  year         pop continent  lifeExp    gdpPercap\n",
      "9     Afghanistan  1997  22227415.0      Asia   41.763   635.341351\n",
      "10    Afghanistan  2002  25268405.0      Asia   42.129   726.734055\n",
      "11    Afghanistan  2007  31889923.0      Asia   43.828   974.580338\n",
      "21        Albania  1997   3428038.0    Europe   72.950  3193.054604\n",
      "22        Albania  2002   3508512.0    Europe   75.651  4604.211737\n",
      "...           ...   ...         ...       ...      ...          ...\n",
      "1690       Zambia  2002  10595811.0    Africa   39.193  1071.613938\n",
      "1691       Zambia  2007  11746035.0    Africa   42.384  1271.211593\n",
      "1701     Zimbabwe  1997  11404948.0    Africa   46.809   792.449960\n",
      "1702     Zimbabwe  2002  11926563.0    Africa   39.989   672.038623\n",
      "1703     Zimbabwe  2007  12311143.0    Africa   43.487   469.709298\n",
      "\n",
      "[426 rows x 6 columns]\n",
      "          country  year         pop continent  lifeExp    gdpPercap\n",
      "9     Afghanistan  1997  22227415.0      Asia   41.763   635.341351\n",
      "10    Afghanistan  2002  25268405.0      Asia   42.129   726.734055\n",
      "11    Afghanistan  2007  31889923.0      Asia   43.828   974.580338\n",
      "21        Albania  1997   3428038.0    Europe   72.950  3193.054604\n",
      "22        Albania  2002   3508512.0    Europe   75.651  4604.211737\n",
      "...           ...   ...         ...       ...      ...          ...\n",
      "1690       Zambia  2002  10595811.0    Africa   39.193  1071.613938\n",
      "1691       Zambia  2007  11746035.0    Africa   42.384  1271.211593\n",
      "1701     Zimbabwe  1997  11404948.0    Africa   46.809   792.449960\n",
      "1702     Zimbabwe  2002  11926563.0    Africa   39.989   672.038623\n",
      "1703     Zimbabwe  2007  12311143.0    Africa   43.487   469.709298\n",
      "\n",
      "[426 rows x 6 columns]\n"
     ]
    }
   ],
   "source": [
    "import  pandas as pd\n",
    "data_url='http://bit.ly/2cLzoxH'\n",
    "gap1=pd.read_csv(data_url)\n",
    "print(gap1)\n",
    "print('想要查詢1997到2007年資料')\n",
    "is2020 = gap1[\"year\"].between(1997,2007)\n",
    "print(gap1[is2020])\n",
    "gap2 = gap1.query(\"year.between(1997,2007)\")\n",
    "print(gap2)"
   ]
  },
  {
   "cell_type": "code",
   "execution_count": null,
   "id": "6e738cc6-b543-4756-bb79-fd78cafe2622",
   "metadata": {},
   "outputs": [],
   "source": []
  }
 ],
 "metadata": {
  "kernelspec": {
   "display_name": "Python 3 (ipykernel)",
   "language": "python",
   "name": "python3"
  },
  "language_info": {
   "codemirror_mode": {
    "name": "ipython",
    "version": 3
   },
   "file_extension": ".py",
   "mimetype": "text/x-python",
   "name": "python",
   "nbconvert_exporter": "python",
   "pygments_lexer": "ipython3",
   "version": "3.11.9"
  }
 },
 "nbformat": 4,
 "nbformat_minor": 5
}
