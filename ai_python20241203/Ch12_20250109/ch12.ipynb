{
 "cells": [
  {
   "cell_type": "markdown",
   "id": "b98ef1ec-3ec3-4269-b2ab-e74a7a97d774",
   "metadata": {},
   "source": [
    "## 作業\n",
    "\n",
    "設計錢包總金額為 1000 元，\n",
    "\n",
    "如果購買商品總金額超過 1000 \n",
    "\n",
    "會引發一個金額不足的例外 OverflowError"
   ]
  },
  {
   "cell_type": "code",
   "execution_count": 4,
   "id": "7f8e428f-db6b-4ea9-9105-4af0fe820829",
   "metadata": {},
   "outputs": [
    {
     "name": "stdin",
     "output_type": "stream",
     "text": [
      "消費項目 AA\n",
      "消費金額 100\n",
      "消費項目 BB\n",
      "消費金額 200\n",
      "消費項目 CC\n",
      "消費金額 500\n",
      "消費項目 DD\n",
      "消費金額 200\n",
      "消費項目 GG\n",
      "消費金額 100\n"
     ]
    },
    {
     "name": "stdout",
     "output_type": "stream",
     "text": [
      "已超支了\n",
      "{'AA': '100', 'BB': '200', 'CC': '500', 'DD': '200'}\n"
     ]
    }
   ],
   "source": [
    "sum = 0\n",
    "dic1 = {}\n",
    "while True:\n",
    "    item = input(\"消費項目\")\n",
    "    price = input(\"消費金額\")\n",
    "    try:\n",
    "        if sum + int(price) > 1000:\n",
    "            raise OverflowError\n",
    "        dic1[item] =  price\n",
    "        sum += int(price)\n",
    "    except OverflowError:\n",
    "        print(\"已超支了\")\n",
    "        break\n",
    "print(dic1)"
   ]
  },
  {
   "cell_type": "code",
   "execution_count": 6,
   "id": "9ba17104-4666-4498-8434-5a12f1c7920f",
   "metadata": {},
   "outputs": [
    {
     "name": "stdout",
     "output_type": "stream",
     "text": [
      "1\n",
      "2\n",
      "3\n"
     ]
    }
   ],
   "source": [
    "## 1~5\n",
    "for i in range(1,6):\n",
    "    print(i)\n",
    "    if i == 3:\n",
    "        break"
   ]
  },
  {
   "cell_type": "code",
   "execution_count": 8,
   "id": "d14ed9ac-8daf-4753-a891-2f83f8c1cf82",
   "metadata": {},
   "outputs": [
    {
     "name": "stdout",
     "output_type": "stream",
     "text": [
      "1 _ 1 1 _ 2 1 _ 3 \n",
      "2 _ 1 \n",
      "3 _ 1 3 _ 2 3 _ 3 \n"
     ]
    }
   ],
   "source": [
    "for i in range(1,4):\n",
    "    for k in range(1,4):\n",
    "        print(i,\"_\",k,end=\" \")\n",
    "        if i == 2:\n",
    "            break\n",
    "    print()    "
   ]
  },
  {
   "cell_type": "code",
   "execution_count": 9,
   "id": "616156a6-017b-42d8-8df3-25b370b9e7c5",
   "metadata": {},
   "outputs": [
    {
     "name": "stdout",
     "output_type": "stream",
     "text": [
      "1 _ 1 1 _ 2 1 _ 3 \n",
      "2 _ 1 離開迴圈\n"
     ]
    }
   ],
   "source": [
    "try:\n",
    "    for i in range(1,4):\n",
    "        for k in range(1,4):\n",
    "            print(i,\"_\",k,end=\" \")\n",
    "            if i == 2:\n",
    "                raise Exception\n",
    "        print()\n",
    "except:\n",
    "    print(\"離開迴圈\")"
   ]
  },
  {
   "cell_type": "markdown",
   "id": "69877b1a-647f-4b59-b40e-935012560df0",
   "metadata": {},
   "source": [
    "## 方法覆寫"
   ]
  },
  {
   "cell_type": "code",
   "execution_count": 22,
   "id": "f7948876-a5ab-4da7-8a2d-5f0b7b52d223",
   "metadata": {},
   "outputs": [
    {
     "name": "stdout",
     "output_type": "stream",
     "text": [
      "Bobo 跑\n",
      "Bobo 吃\n",
      "cat! Kitty 跑\n",
      "Kitty 吃\n",
      "Kitty Jump\n",
      "Dog! Lulu 跑\n",
      "Lulu 吃\n"
     ]
    }
   ],
   "source": [
    "class Animal:\n",
    "    def __init__(self,name,age = 10):\n",
    "        self.name = name\n",
    "        self.age = age\n",
    "    def run(self): \n",
    "       print(self.name,\"跑\")\n",
    "    def eat(self):\n",
    "       print(self.name,\"吃\")\n",
    "class Cat(Animal):\n",
    "    def run(self):\n",
    "        print(\"cat!\",end=\" \")\n",
    "        super().run()#呼叫父類別的run\n",
    "    def jump(self):\n",
    "        print(self.name,\"Jump\")\n",
    "class Dog(Animal):\n",
    "    def run(self):\n",
    "        print(\"Dog!\",end = \" \")\n",
    "        super().run()\n",
    "a1 = Animal(\"Bobo\")\n",
    "a1.run()\n",
    "a1.eat()\n",
    "c1 = Cat(\"Kitty\")\n",
    "c1.run()\n",
    "c1.eat()\n",
    "c1.jump()\n",
    "d1 = Dog(\"Lulu\")\n",
    "d1.run()\n",
    "d1.eat()"
   ]
  },
  {
   "cell_type": "code",
   "execution_count": 29,
   "id": "66844caa-7f51-4b04-be24-6a7bc755c0b3",
   "metadata": {},
   "outputs": [
    {
     "name": "stdout",
     "output_type": "stream",
     "text": [
      "Person __init__\n",
      "Iris Hello!\n",
      "Person __init__\n",
      "Person __init__\n",
      "Gigi Hello!\n",
      "A000 UiUi Hello!\n"
     ]
    }
   ],
   "source": [
    "class Person:\n",
    "    def __init__(self,name=\"ken\"):\n",
    "        self.name = name\n",
    "        print(\"Person __init__\")\n",
    "    def printInfo(self):\n",
    "        print(self.name,\"Hello!\")\n",
    "#Student\n",
    "#Teacher\n",
    "class Student(Person):#沒有複寫__init__()會自動呼叫父類別的__init__()\n",
    "    pass\n",
    "class Teacher(Person):\n",
    "    def __init__(self,name=\"\",id=\"A000\"):\n",
    "        self.id = id\n",
    "        super().__init__(name)\n",
    "    def printInfo(self):\n",
    "        print(self.id,end = \" \")\n",
    "        super().printInfo()\n",
    "        \n",
    "p1 = Person(\"Iris\")\n",
    "p1.printInfo()\n",
    "st1 = Student(\"Gigi\")\n",
    "t1 = Teacher(\"UiUi\")\n",
    "st1.printInfo()\n",
    "t1.printInfo()"
   ]
  },
  {
   "cell_type": "markdown",
   "id": "50ed3a7f-6dd7-4b84-bcef-6ae0314b42bc",
   "metadata": {},
   "source": [
    "## 多重繼承與初始化方法\n",
    "### 多重繼承\n",
    "+ 繼承多個父類別時用，隔開\n",
    "+ 注意成員搜尋的順序\n",
    "  + 從子類別開始\n",
    "  + 同一階層父類別由左至右搜尋\n",
    "  + 更上層祖父類別由左至右搜尋\n",
    "  + 直到達到頂層為止"
   ]
  },
  {
   "cell_type": "code",
   "execution_count": 31,
   "id": "a475eb4a-b3cb-4f89-aca2-7dcd692290ba",
   "metadata": {},
   "outputs": [
    {
     "name": "stdout",
     "output_type": "stream",
     "text": [
      "[<class '__main__.C'>, <class '__main__.A'>, <class '__main__.B'>, <class '__main__.Z'>, <class '__main__.S'>, <class 'object'>]\n",
      "C.method4\n",
      "A.method3\n",
      "B.method2\n",
      "Z.method1\n"
     ]
    }
   ],
   "source": [
    "class S():\n",
    "    def method1(self):\n",
    "        print(\"S.method1\")\n",
    "    def method2(self):  \n",
    "         print(\"S.method2\")\n",
    "class Z():\n",
    "    def method1(self):\n",
    "        print(\"Z.method1\")\n",
    "class A(S):\n",
    "    def method3(self):\n",
    "        print(\"A.method3\")\n",
    "class B(Z,S):\n",
    "    def method2(self):\n",
    "        print(\"B.method2\")\n",
    "    def method3(self):  \n",
    "         print(\"B.method3\")\n",
    "class C(A,B):\n",
    "    def method4(self):\n",
    "        print(\"C.method4\")\n",
    "c = C()\n",
    "print(C.mro())\n",
    "c.method4()\n",
    "c.method3()\n",
    "c.method2()\n",
    "c.method1()"
   ]
  },
  {
   "cell_type": "markdown",
   "id": "2c3d0976-cc95-4287-bc79-9529a767a74e",
   "metadata": {},
   "source": [
    "## __str__ 可輸出物件的內容"
   ]
  },
  {
   "cell_type": "code",
   "execution_count": 32,
   "id": "2ae172b3-7b1a-40ed-974d-d6f80173590c",
   "metadata": {},
   "outputs": [
    {
     "name": "stdout",
     "output_type": "stream",
     "text": [
      "<__main__.Point object at 0x00000222BCF87C50>\n",
      "<__main__.Point object at 0x00000222BCFB9F10>\n"
     ]
    }
   ],
   "source": [
    "class Point:\n",
    "    def __init__(self,x = 0, y = 0):\n",
    "        self.x = x\n",
    "        self.y = y\n",
    "p1 = Point(2,3)\n",
    "p2 = Point(-1,2)\n",
    "print(p1)\n",
    "print(p2)"
   ]
  },
  {
   "cell_type": "code",
   "execution_count": 36,
   "id": "b2619203-e29c-4a65-84ec-8dea767ad75d",
   "metadata": {},
   "outputs": [
    {
     "name": "stdout",
     "output_type": "stream",
     "text": [
      "(2,3)\n",
      "(-1,2)\n"
     ]
    },
    {
     "ename": "TypeError",
     "evalue": "unsupported operand type(s) for +: 'Point' and 'Point'",
     "output_type": "error",
     "traceback": [
      "\u001b[1;31m---------------------------------------------------------------------------\u001b[0m",
      "\u001b[1;31mTypeError\u001b[0m                                 Traceback (most recent call last)",
      "Cell \u001b[1;32mIn[36], line 11\u001b[0m\n\u001b[0;32m      9\u001b[0m \u001b[38;5;28mprint\u001b[39m(p1)\n\u001b[0;32m     10\u001b[0m \u001b[38;5;28mprint\u001b[39m(p2)\n\u001b[1;32m---> 11\u001b[0m \u001b[38;5;28mprint\u001b[39m(p1 \u001b[38;5;241m+\u001b[39m p2)\n",
      "\u001b[1;31mTypeError\u001b[0m: unsupported operand type(s) for +: 'Point' and 'Point'"
     ]
    }
   ],
   "source": [
    "class Point:\n",
    "    def __init__(self,x = 0, y = 0):\n",
    "        self.x = x\n",
    "        self.y = y\n",
    "    def __str__(self):\n",
    "        return f\"({self.x},{self.y})\"\n",
    "p1 = Point(2,3)\n",
    "p2 = Point(-1,2)\n",
    "print(p1)\n",
    "print(p2)"
   ]
  },
  {
   "cell_type": "markdown",
   "id": "8ae38ebe-4917-4278-a9b1-c68e59fb9b67",
   "metadata": {},
   "source": [
    "``` python\n",
    "__add__  +\n",
    "\n",
    "__iadd__  +=\n",
    "\n",
    "__sub__  -\n",
    "\n",
    "__isub__  -=\n",
    "\n",
    "__mul__  *\n",
    "\n",
    "__imul__  *=\n",
    "\n",
    "__truediv__   /\n",
    "\n",
    "__itruediv__   /=\n",
    "\n",
    "__floordiv__  //\n",
    "\n",
    "__ifloordiv__  //=\n",
    "\n",
    "__mod__  %\n",
    "\n",
    "__imod__  %=\n",
    "\n",
    "__pow__  **\n",
    "\n",
    "__ipow__  **=\n",
    "```"
   ]
  },
  {
   "cell_type": "code",
   "execution_count": 37,
   "id": "d36373f8-9ac0-4974-8f2a-a1ad788c0056",
   "metadata": {},
   "outputs": [
    {
     "name": "stdout",
     "output_type": "stream",
     "text": [
      "(1,5)\n"
     ]
    }
   ],
   "source": [
    "class Point:\n",
    "    def __init__(self,x = 0, y = 0):\n",
    "        self.x = x\n",
    "        self.y = y\n",
    "    def __str__(self):\n",
    "        return f\"({self.x},{self.y})\"\n",
    "    def __add__(self,other):\n",
    "        x = self.x + other.x\n",
    "        y = self.y + other.y\n",
    "        return Point(x,y)\n",
    "p1 = Point(2,3)\n",
    "p2 = Point(-1,2)\n",
    "print(p1 + p2)"
   ]
  },
  {
   "cell_type": "code",
   "execution_count": 42,
   "id": "30d9758f-2eb7-4849-b65d-0528d06fe424",
   "metadata": {},
   "outputs": [
    {
     "name": "stdout",
     "output_type": "stream",
     "text": [
      "13\n",
      "(1,1)\n",
      "(2,3)\n",
      "(4,9)\n"
     ]
    }
   ],
   "source": [
    "class Point:\n",
    "    def __init__(self,x = 0, y = 0):\n",
    "        self.x = x\n",
    "        self.y = y\n",
    "    def __str__(self):\n",
    "        return f\"({self.x},{self.y})\"\n",
    "    def __add__(self,other):\n",
    "        x = self.x + other.x\n",
    "        y = self.y + other.y\n",
    "        return Point(x,y)\n",
    "    def __len__(self):\n",
    "        myLen = (self.x**2) + (self.y**2)\n",
    "        return myLen\n",
    "    def __lt__(self,other):\n",
    "        p1Len = len(self)\n",
    "        p2Len = len(other)\n",
    "        return p1Len < p2Len\n",
    "p1 = Point(2,3)\n",
    "p2 = Point(1,1)\n",
    "p3 = Point(4,9)\n",
    "print(len(p1))\n",
    "myList = [p1,p2,p3]\n",
    "myList.sort()\n",
    "for p in myList:\n",
    "    print(p)"
   ]
  },
  {
   "cell_type": "markdown",
   "id": "345a6ea5-ddb0-48dc-a6ea-d289d89404c9",
   "metadata": {},
   "source": [
    "## 目錄管理\n",
    "\n",
    "我們可以使用 os 模組的 getcwd() 方法獲取當前工作目錄。\n",
    "\n",
    "此方法以字串形式返回當前工作目錄。 \n",
    "\n",
    "請動手操作，並留意輸出結果"
   ]
  },
  {
   "cell_type": "code",
   "execution_count": 44,
   "id": "adfa854f-5d18-4b62-a675-1fba20df95be",
   "metadata": {},
   "outputs": [
    {
     "name": "stdout",
     "output_type": "stream",
     "text": [
      "C:\\Users\\xvpow\\ai_python20241203\\Ch12_20250109\n"
     ]
    }
   ],
   "source": [
    "import os\n",
    "print(os.getcwd())"
   ]
  },
  {
   "cell_type": "markdown",
   "id": "1880e23c-5549-4985-aeb2-bcf8092cd3a6",
   "metadata": {},
   "source": [
    "## 模組 "
   ]
  },
  {
   "cell_type": "code",
   "execution_count": 47,
   "id": "769e9db6-9d35-4ff3-a9d4-5c55e0107b27",
   "metadata": {},
   "outputs": [
    {
     "name": "stdout",
     "output_type": "stream",
     "text": [
      "Create\n",
      "func1\n"
     ]
    }
   ],
   "source": [
    "import modu\n",
    "obj1 = modu.Test1()\n",
    "modu.func1()"
   ]
  },
  {
   "cell_type": "markdown",
   "id": "a7560b84-f47b-443e-a50b-8c8b938bd2fb",
   "metadata": {},
   "source": [
    "## 套件"
   ]
  },
  {
   "cell_type": "code",
   "execution_count": 48,
   "id": "efe8ad7c-c08f-4333-a2b0-0a21200ec3c8",
   "metadata": {},
   "outputs": [
    {
     "name": "stdout",
     "output_type": "stream",
     "text": [
      "Happy Python!\n"
     ]
    }
   ],
   "source": [
    "import happy.my_mod\n",
    "happy.my_mod.happy_python()"
   ]
  },
  {
   "cell_type": "code",
   "execution_count": 49,
   "id": "87ff828c-d283-4949-a54e-a53582073c8d",
   "metadata": {},
   "outputs": [
    {
     "name": "stdout",
     "output_type": "stream",
     "text": [
      "Happy Python!\n"
     ]
    }
   ],
   "source": [
    "import happy.my_mod as my\n",
    "my.happy_python()"
   ]
  },
  {
   "cell_type": "code",
   "execution_count": 50,
   "id": "a6f9ec9e-5559-4c6c-818e-392ea3b8b393",
   "metadata": {},
   "outputs": [
    {
     "name": "stdout",
     "output_type": "stream",
     "text": [
      "Happy Python!\n"
     ]
    }
   ],
   "source": [
    "from  happy.my_mod import happy_python\n",
    "happy_python()"
   ]
  },
  {
   "cell_type": "code",
   "execution_count": null,
   "id": "32699283-5e16-4e45-8934-9d17a28ea825",
   "metadata": {},
   "outputs": [],
   "source": []
  }
 ],
 "metadata": {
  "kernelspec": {
   "display_name": "Python 3 (ipykernel)",
   "language": "python",
   "name": "python3"
  },
  "language_info": {
   "codemirror_mode": {
    "name": "ipython",
    "version": 3
   },
   "file_extension": ".py",
   "mimetype": "text/x-python",
   "name": "python",
   "nbconvert_exporter": "python",
   "pygments_lexer": "ipython3",
   "version": "3.11.9"
  }
 },
 "nbformat": 4,
 "nbformat_minor": 5
}
