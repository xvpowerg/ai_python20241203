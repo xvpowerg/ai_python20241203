{
 "cells": [
  {
   "cell_type": "code",
   "execution_count": 3,
   "id": "67b84b9a-6f70-47f5-bd28-90eadd29eb98",
   "metadata": {},
   "outputs": [
    {
     "name": "stdout",
     "output_type": "stream",
     "text": [
      "D\n"
     ]
    }
   ],
   "source": [
    "str1 = \"ABCDEFGHI\"\n",
    "print(str1[3])"
   ]
  },
  {
   "cell_type": "code",
   "execution_count": 4,
   "id": "854d72f8-d062-4c46-86af-56a3a9dc6e9c",
   "metadata": {},
   "outputs": [
    {
     "name": "stdout",
     "output_type": "stream",
     "text": [
      "BC\n"
     ]
    }
   ],
   "source": [
    "print(str1[1:3])#不包含結尾 <3 1:3 意思是取值的區間 >=1  < 3"
   ]
  },
  {
   "cell_type": "code",
   "execution_count": 5,
   "id": "7a4556ec-50e2-4eda-8c77-e1a3cb0317d5",
   "metadata": {},
   "outputs": [
    {
     "name": "stdout",
     "output_type": "stream",
     "text": [
      "BCD\n"
     ]
    }
   ],
   "source": [
    "print(str1[1:4])"
   ]
  },
  {
   "cell_type": "code",
   "execution_count": 6,
   "id": "97ab61a3-524e-48d1-8704-9e56f5f58818",
   "metadata": {},
   "outputs": [],
   "source": [
    "str1 = \"ABCDEFGHI\""
   ]
  },
  {
   "cell_type": "code",
   "execution_count": null,
   "id": "8c95418d-b956-4f3b-9714-e42f9b4f7b9b",
   "metadata": {},
   "outputs": [],
   "source": [
    "#DEF\n",
    "print(str1[3:6])\n",
    "#>= 3  < 6"
   ]
  },
  {
   "cell_type": "markdown",
   "id": "03ccd269-dab5-42a4-9e8e-04f05a97b2db",
   "metadata": {},
   "source": [
    "# 右邊往左邊數由-1開始\n",
    "# 左邊往右邊數由0開始"
   ]
  },
  {
   "cell_type": "code",
   "execution_count": 10,
   "id": "2f1d2219-0b9e-4756-9564-6ac2016a6e25",
   "metadata": {},
   "outputs": [
    {
     "name": "stdout",
     "output_type": "stream",
     "text": [
      "GH\n",
      "GH\n"
     ]
    }
   ],
   "source": [
    "str1 = \"ABCDEFGHI\"\n",
    "print(str1[6:8])\n",
    "print(str1[-3:-1])"
   ]
  },
  {
   "cell_type": "code",
   "execution_count": 12,
   "id": "f5a416fe-0fdb-41c9-b87d-6632b0ae3edf",
   "metadata": {},
   "outputs": [
    {
     "name": "stdout",
     "output_type": "stream",
     "text": [
      "HI\n"
     ]
    }
   ],
   "source": [
    "print(str1[-2:])#由-2到結尾"
   ]
  },
  {
   "cell_type": "code",
   "execution_count": 13,
   "id": "44c40640-3469-491f-816b-8cdaa18bfcfc",
   "metadata": {},
   "outputs": [
    {
     "name": "stdout",
     "output_type": "stream",
     "text": [
      "ABCDEFGHI\n"
     ]
    }
   ],
   "source": [
    "print(str1[:])"
   ]
  },
  {
   "cell_type": "code",
   "execution_count": 14,
   "id": "bbca7f2c-50f9-4326-a543-7ed4e1ff8a55",
   "metadata": {},
   "outputs": [
    {
     "name": "stdout",
     "output_type": "stream",
     "text": [
      "ABCD\n"
     ]
    }
   ],
   "source": [
    "print(str1[:4])#由開頭到3"
   ]
  },
  {
   "cell_type": "code",
   "execution_count": 28,
   "id": "894e0ed1-46a6-4e9e-9dcc-53d633d832b1",
   "metadata": {},
   "outputs": [
    {
     "name": "stdout",
     "output_type": "stream",
     "text": [
      "ACEGI\n"
     ]
    }
   ],
   "source": [
    "str1 = \"ABCDEFGHI\"\n",
    "print(str1[::2])"
   ]
  },
  {
   "cell_type": "code",
   "execution_count": 29,
   "id": "7d15b48c-068e-45e7-818b-8692b1d77258",
   "metadata": {},
   "outputs": [
    {
     "name": "stdout",
     "output_type": "stream",
     "text": [
      "IHGFEDCBA\n"
     ]
    }
   ],
   "source": [
    "str1 = \"ABCDEFGHI\"\n",
    "print(str1[::-1])"
   ]
  },
  {
   "cell_type": "code",
   "execution_count": 27,
   "id": "ce1c4c47-ad8d-4e46-9758-91dbf02f9268",
   "metadata": {},
   "outputs": [
    {
     "name": "stdout",
     "output_type": "stream",
     "text": [
      "GH\n"
     ]
    }
   ],
   "source": [
    "str1 = \"ABCDEFGHI\"\n",
    "strLen = len(str1)\n",
    "s = 6\n",
    "e = 8\n",
    "emp=\"\"\n",
    "for i in range(s,e):\n",
    "    emp += str1[i]\n",
    "print(emp)    "
   ]
  },
  {
   "cell_type": "markdown",
   "id": "2d705d8b-d66c-4a82-8136-8dddb9f5649e",
   "metadata": {},
   "source": [
    "## 字串不可修改性"
   ]
  },
  {
   "cell_type": "code",
   "execution_count": 34,
   "id": "a1a60dda-bdf7-4cd3-8de4-156c43a13f9b",
   "metadata": {},
   "outputs": [
    {
     "name": "stdout",
     "output_type": "stream",
     "text": [
      "Python\n",
      "Golan\n",
      "Java\n"
     ]
    }
   ],
   "source": [
    "str1 = \"Python\"\n",
    "str2 = \"Golan\"\n",
    "print(str1)\n",
    "print(str2)\n",
    "str1 = \"Java\" #覆蓋 不是修改\n",
    "print(str1)"
   ]
  },
  {
   "cell_type": "code",
   "execution_count": 39,
   "id": "6cb80c53-4c19-4100-9561-583f499593cf",
   "metadata": {},
   "outputs": [
    {
     "name": "stdout",
     "output_type": "stream",
     "text": [
      "Python\n",
      "yt\n"
     ]
    }
   ],
   "source": [
    "str1 = \"Python\"\n",
    "newStr1 = str1[1:3]\n",
    "print(str1)\n",
    "print(newStr1)"
   ]
  },
  {
   "cell_type": "code",
   "execution_count": 42,
   "id": "c2f57f9d-3601-47f9-b257-5937c9205532",
   "metadata": {},
   "outputs": [
    {
     "name": "stdout",
     "output_type": "stream",
     "text": [
      "This is Python.That is Java,This is SQLite\n",
      "Th__ __ Python.That __ Java,Th__ __ SQLite\n"
     ]
    }
   ],
   "source": [
    "str1 = \"This is Python.That is Java,This is SQLite\"\n",
    "newStr = str1.replace(\"is\",\"__\")\n",
    "print(str1)\n",
    "print(newStr)"
   ]
  },
  {
   "cell_type": "markdown",
   "id": "38bfebda-ee37-4bcd-aa67-ad896859790b",
   "metadata": {},
   "source": [
    "replace 可以將指定的字串進行更換：\n",
    "\n",
    "str.replace(舊字串, 新字串)\n",
    "\n",
    "replace 可以指定您要第幾個位置後不進行更換：\n",
    "\n",
    "str.replace(舊字串, 新字串,能替換幾次)\n",
    "\n",
    "位置編號由 0 開始"
   ]
  },
  {
   "cell_type": "code",
   "execution_count": 47,
   "id": "9127fc2c-b611-459a-9501-165fb7a471dc",
   "metadata": {},
   "outputs": [
    {
     "name": "stdout",
     "output_type": "stream",
     "text": [
      "Th__ is Python.That is Java,This is SQLite\n"
     ]
    }
   ],
   "source": [
    "str1 = \"This is Python.That is Java,This is SQLite\"\n",
    "newStr = str1.replace(\"is\",\"__\",1)\n",
    "print(newStr)"
   ]
  },
  {
   "cell_type": "markdown",
   "id": "ad5add1f-2ff2-4e85-849c-627d1e213944",
   "metadata": {},
   "source": [
    "## find\n",
    "\n",
    "字串可以搜尋特定內容的位置。\n",
    "\n",
    "搜尋的字串位置編號由 0 開始。\n",
    "\n",
    "字串.find(搜尋字串,起始位置,結束位置)\n",
    "\n",
    "搜尋時不包含結束位置。\n",
    "\n",
    "若搜尋不到則回傳 -1。\n",
    "\n",
    "若沒有起始位置，也沒有結束位置，預設由 0 開始。\n",
    "\n",
    "若沒有結束位置，預設到最後一個字。"
   ]
  },
  {
   "cell_type": "code",
   "execution_count": 55,
   "id": "8ad5c07f-b808-479b-8cda-354cda5d8b3f",
   "metadata": {},
   "outputs": [
    {
     "name": "stdout",
     "output_type": "stream",
     "text": [
      "This is Python.That is Java,This is SQLite\n",
      "8\n",
      "14\n",
      "Python\n"
     ]
    }
   ],
   "source": [
    "str1 = \"This is Python.That is Java,This is SQLite\"\n",
    "print(str1)\n",
    "search1 = \"Python\"\n",
    "index = str1.find(search1)\n",
    "print(index)\n",
    "strLen =  len(search1)\n",
    "print(index + strLen)\n",
    "print(str1[index:index + strLen])"
   ]
  },
  {
   "cell_type": "code",
   "execution_count": 56,
   "id": "0eef9a37-4c96-4683-9b45-857113bf28a0",
   "metadata": {},
   "outputs": [
    {
     "name": "stdout",
     "output_type": "stream",
     "text": [
      "10\n"
     ]
    }
   ],
   "source": [
    "str1 = \"This is Python.That is Java,This is SQLite\"\n",
    "search2 = \"t\"\n",
    "index = str1.find(search2)\n",
    "print(index)"
   ]
  },
  {
   "cell_type": "code",
   "execution_count": 57,
   "id": "a10d9115-4143-40ee-adfb-de9d0813b24e",
   "metadata": {},
   "outputs": [
    {
     "name": "stdout",
     "output_type": "stream",
     "text": [
      "18\n"
     ]
    }
   ],
   "source": [
    "str1 = \"This is Python.That is Java,This is SQLite\"\n",
    "search3 = \"t\"\n",
    "index = str1.find(search3,11)\n",
    "print(index)"
   ]
  },
  {
   "cell_type": "code",
   "execution_count": 63,
   "id": "66181038-5fe8-456f-81bc-2052d91fdf0c",
   "metadata": {},
   "outputs": [
    {
     "name": "stdout",
     "output_type": "stream",
     "text": [
      "-1\n"
     ]
    }
   ],
   "source": [
    "str1 = \"This is Python.That is Java,This is SQLite\"\n",
    "search4 = \"t\"\n",
    "index =  str1.find(search4,11,16)#不包含16\n",
    "print(index)"
   ]
  },
  {
   "cell_type": "markdown",
   "id": "e3d835e0-ab47-41b6-9615-3b05049de2a3",
   "metadata": {},
   "source": [
    "# 作業使用find 搜尋所有is的index"
   ]
  },
  {
   "cell_type": "code",
   "execution_count": 65,
   "id": "4cdefac8-f69a-4b7f-a1d9-e805edb05c55",
   "metadata": {},
   "outputs": [
    {
     "name": "stdout",
     "output_type": "stream",
     "text": [
      "2\n",
      "5\n"
     ]
    }
   ],
   "source": [
    "str1 = \"This is Python.That is Java,This is SQLite\"\n",
    "search5=\"is\"\n",
    "index = str1.find(search5)\n",
    "print(index)\n",
    "index = str1.find(search5,index + 1)\n",
    "print(index)"
   ]
  },
  {
   "cell_type": "markdown",
   "id": "9191c9c1-0228-4869-8284-854709a0099c",
   "metadata": {},
   "source": [
    "## join\n",
    "\n",
    "join( ) : 於字串或著字元之間加入指定的文字\n",
    "\n",
    "指定文字.join(要插入的字串)"
   ]
  },
  {
   "cell_type": "code",
   "execution_count": 67,
   "id": "ad003c84-84ce-4810-8a63-4da5da27196a",
   "metadata": {},
   "outputs": [
    {
     "name": "stdout",
     "output_type": "stream",
     "text": [
      "Ken-Vivin-Lucy\n"
     ]
    }
   ],
   "source": [
    "str1 = \"-\"\n",
    "names = [\"Ken\",\"Vivin\",\"Lucy\"]\n",
    "newStr = str1.join(names)\n",
    "print(newStr)"
   ]
  },
  {
   "cell_type": "code",
   "execution_count": null,
   "id": "a254a384-433c-46d1-b1df-e0b590d1ad74",
   "metadata": {},
   "outputs": [],
   "source": []
  }
 ],
 "metadata": {
  "kernelspec": {
   "display_name": "Python 3 (ipykernel)",
   "language": "python",
   "name": "python3"
  },
  "language_info": {
   "codemirror_mode": {
    "name": "ipython",
    "version": 3
   },
   "file_extension": ".py",
   "mimetype": "text/x-python",
   "name": "python",
   "nbconvert_exporter": "python",
   "pygments_lexer": "ipython3",
   "version": "3.11.9"
  }
 },
 "nbformat": 4,
 "nbformat_minor": 5
}
