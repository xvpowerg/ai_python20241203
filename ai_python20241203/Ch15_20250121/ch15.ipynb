{
 "cells": [
  {
   "cell_type": "markdown",
   "id": "83708a7f-b2a7-481a-80a1-8206ed7c3930",
   "metadata": {},
   "source": [
    "## Numpy\n",
    "+ 可做到的功能\n",
    "  + 快速的多維陣列操作。\n",
    "  + 可靠的科學功能函數庫。\n",
    "  + 可協助繪圖工具進行繪圖。\n",
    "+ NumPy 是幾乎每個科學 Python 應用程序或模組的核心，它提供了以向量化形式的快速 N-d 陣列類型可供操作。"
   ]
  },
  {
   "cell_type": "code",
   "execution_count": 4,
   "id": "35cb9156-54eb-473a-a3dc-46adce56dc73",
   "metadata": {},
   "outputs": [
    {
     "name": "stdout",
     "output_type": "stream",
     "text": [
      "<class 'list'>\n",
      "[1, 2, 3, 5, 7, 9, 3, 5, 3, 6, 7, 9]\n",
      "<class 'numpy.ndarray'>\n",
      "<class 'numpy.ndarray'>\n",
      "[ 4  7  6 11 14 18]\n"
     ]
    }
   ],
   "source": [
    "import numpy as np\n",
    "a = [1,2,3,5,7,9]\n",
    "b = [3,5,3,6,7,9]\n",
    "print(type(a))\n",
    "print(a + b)\n",
    "np1 = np.array(a)\n",
    "np2 = np.array(b)\n",
    "print(type(np1))\n",
    "print(type(np2))\n",
    "print(np1 + np2)"
   ]
  },
  {
   "cell_type": "markdown",
   "id": "b3f5c65c-ebbd-4ec5-9e46-dead7db2f7e8",
   "metadata": {},
   "source": [
    "+ ndarray.ndim\n",
    "   + 維度的數量。\n",
    "+ ndarray.shape\n",
    "   + 顯示出陣列在每個維度上的整數值。\n",
    "+ ndarray.size\n",
    "   + 陣列內元素的總數。\n",
    "+ ndarray.dtype\n",
    "   + 用來描述陣列中元素類型的對象。"
   ]
  },
  {
   "cell_type": "code",
   "execution_count": 13,
   "id": "af2fd6fa-cf08-48e5-a3f9-6263e943aa19",
   "metadata": {},
   "outputs": [
    {
     "name": "stdout",
     "output_type": "stream",
     "text": [
      "1\n",
      "(3,)\n",
      "3\n",
      "int32\n"
     ]
    }
   ],
   "source": [
    "import numpy as np\n",
    "i = np.array([1,2,3]) #所有內容類型必須一樣\n",
    "#有字串所有都轉成字串\n",
    "#有浮點數所有都轉成浮點數\n",
    "print(i.ndim)\n",
    "print(i.shape)\n",
    "print(i.size)\n",
    "print(i.dtype)"
   ]
  },
  {
   "cell_type": "markdown",
   "id": "f79463a4-fbc4-410e-b85b-8035b2894644",
   "metadata": {},
   "source": [
    "https://www.runoob.com/numpy/numpy-dtype.html"
   ]
  },
  {
   "cell_type": "code",
   "execution_count": 19,
   "id": "1383dd0e-73a1-4fc0-b470-f0a336302e24",
   "metadata": {},
   "outputs": [
    {
     "name": "stdout",
     "output_type": "stream",
     "text": [
      "int8\n",
      "float16\n",
      "<U32\n"
     ]
    }
   ],
   "source": [
    "import numpy as np\n",
    "v1 = np.array([1,2,3],dtype=np.int8)\n",
    "print(v1.dtype)\n",
    "v2 = np.array([1,2.5,3],dtype=np.float16)\n",
    "print(v2.dtype)\n",
    "v3 = np.array([1,2.5,\"Test\"])\n",
    "print(v3.dtype)"
   ]
  },
  {
   "cell_type": "code",
   "execution_count": 25,
   "id": "a190e056-e42a-496b-b40a-75b55baaaff7",
   "metadata": {},
   "outputs": [
    {
     "name": "stdout",
     "output_type": "stream",
     "text": [
      "2\n",
      "(2, 3)\n",
      "2\n",
      "3\n",
      "6\n"
     ]
    }
   ],
   "source": [
    "import numpy as np\n",
    "i = [[5,6,7],\n",
    "     [8,9,15]]#2x3\n",
    "a = np.array(i)\n",
    "print(a.ndim)\n",
    "# 軸0有2筆數值\n",
    "# 軸1有3筆數值\n",
    "print(a.shape)\n",
    "print(a.shape[0])\n",
    "print(a.shape[1])\n",
    "print(a.size)"
   ]
  },
  {
   "cell_type": "markdown",
   "id": "c0e0ba67-2953-4882-a997-35e838e351b7",
   "metadata": {},
   "source": [
    "## 陣列初始化與重新規劃\n",
    "+ 針對初始化這部分提供了多種方式：\n",
    "+ 不做初始化\n",
    "   + 例如：np.empty((2,4))\n",
    "+ 全部規劃為 0\n",
    "   + 例如：np.zeros((3,4))\n",
    "+　全部規劃為 1\n",
    "  + np.ones((5,2))\n",
    "+ 全部規劃／填滿為某數，例如 6\n",
    "   + 例如： np.full((3,3),6)\n",
    "+ 建立對角矩陣，對角皆為 1，其他為 0\n",
    "   + 例如： np.eye(3)\n",
    "+ 建立對角矩陣，對角為 1,2,3,4，其他為 0\n",
    "   + 例如： np.diag([1,2,3,4])\n",
    "+ reshape((x,y)) 這個指令就可以將現有的陣列  重新規劃為 x 乘以 y 的陣列。 \n",
    "+ np.arange(起始值, 結束值, 固定間隔)：也是產生一維陣列，和 np.array( ) 的差別在於 arange 擁有較大的彈性，而且元素數值是自動化產生。\n",
    "+ np.linspace(起始值, 結束值, 起始與結束的區間內要產生幾個元素 )：只要給定陣列的區間(起始值、結束值)，就可以要求在這個區間內產生幾個元素。\n",
    "+ arange(a,b,c)\n",
    "   + 不包含 b 由 a 開始 以固定間隔 c 來取值\n",
    "+ linspace(a,b,c,)\n",
    "   + 包含 b 由 a 開始 切割成 c 個資料\n",
    "+ linspace(a,b,c,endpoint=False)\n",
    "   + 不包含 b 由 a 開始 切割成 c 個資料"
   ]
  },
  {
   "cell_type": "code",
   "execution_count": 31,
   "id": "398353e9-9c2d-4df2-b223-80efc0178ca8",
   "metadata": {},
   "outputs": [
    {
     "name": "stdout",
     "output_type": "stream",
     "text": [
      "<class 'numpy.ndarray'>\n",
      "[6 7 8 9]\n",
      "[0 1 2 3]\n",
      "[6 6 6 6]\n",
      "[0 1 4 9]\n"
     ]
    }
   ],
   "source": [
    "import numpy as np\n",
    "a = np.array([6,7,8,9])\n",
    "b = np.arange(4)\n",
    "print(type(b))\n",
    "print(a)\n",
    "print(b)\n",
    "c = a - b\n",
    "print(c)\n",
    "d = b ** 2\n",
    "print(d)\n"
   ]
  },
  {
   "cell_type": "code",
   "execution_count": 46,
   "id": "b2cf03b6-9a2f-401c-8c0d-e766ab364204",
   "metadata": {},
   "outputs": [
    {
     "name": "stdout",
     "output_type": "stream",
     "text": [
      "[-1  3  0]\n"
     ]
    }
   ],
   "source": [
    "import numpy as np\n",
    "f = np.array([5,-1,3,9,0])\n",
    "dataList = []\n",
    "for v in f:\n",
    "    if v <= 3:\n",
    "        dataList.append(v)\n",
    "f = np.array(dataList)     \n",
    "print(f)"
   ]
  },
  {
   "cell_type": "code",
   "execution_count": 47,
   "id": "b19a326c-7c61-4514-a465-ecff215859d0",
   "metadata": {},
   "outputs": [
    {
     "data": {
      "text/plain": [
       "array([ 5, -1,  0])"
      ]
     },
     "execution_count": 47,
     "metadata": {},
     "output_type": "execute_result"
    }
   ],
   "source": [
    "import numpy as np\n",
    "f = np.array([5,-1,3,9,0])\n",
    "show = np.array([True,True,False,False,True])\n",
    "f[show]"
   ]
  },
  {
   "cell_type": "code",
   "execution_count": 44,
   "id": "a2bbe652-7b0f-4e2e-aa2b-56ec404f534f",
   "metadata": {},
   "outputs": [
    {
     "name": "stdout",
     "output_type": "stream",
     "text": [
      "[False  True  True False  True]\n",
      "[-1  3  0]\n",
      "[5 1 1 9 1]\n"
     ]
    }
   ],
   "source": [
    "import numpy as np\n",
    "f = np.array([5,-1,3,9,0])\n",
    "print(f <= 3 )\n",
    "print(f[f <= 3])\n",
    "f[f <= 3] = 1\n",
    "print(f)"
   ]
  },
  {
   "cell_type": "code",
   "execution_count": 49,
   "id": "61aa975a-7557-4756-a765-f9cace63d6d4",
   "metadata": {},
   "outputs": [
    {
     "name": "stdout",
     "output_type": "stream",
     "text": [
      "[[0. 0. 0. 0.]\n",
      " [0. 0. 0. 0.]]\n",
      "[[0. 0. 0. 0.]\n",
      " [0. 0. 0. 0.]]\n"
     ]
    }
   ],
   "source": [
    "import numpy as np\n",
    "x = np.empty((2,4))#空矩陣\n",
    "print(x)\n",
    "z = np.zeros((2,4))#零矩陣\n",
    "print(z)"
   ]
  },
  {
   "cell_type": "code",
   "execution_count": 58,
   "id": "c930c77a-e4f5-4e10-ad53-dbd8819437cb",
   "metadata": {},
   "outputs": [
    {
     "name": "stdout",
     "output_type": "stream",
     "text": [
      "[[1. 1. 1. 1.]\n",
      " [1. 1. 1. 1.]]\n",
      "[[6 6 6 6]\n",
      " [6 6 6 6]]\n"
     ]
    }
   ],
   "source": [
    "import numpy as np\n",
    "x = np.ones((2,4))\n",
    "print(x)\n",
    "x2 = np.full((2,4),6)\n",
    "print(x2)"
   ]
  },
  {
   "cell_type": "markdown",
   "id": "868e02d5-4430-4009-938f-a6e1036bbb72",
   "metadata": {},
   "source": [
    "### linspace arange"
   ]
  },
  {
   "cell_type": "code",
   "execution_count": 65,
   "id": "ae895c98-d5c2-432f-b073-eab22acd65c3",
   "metadata": {},
   "outputs": [
    {
     "name": "stdout",
     "output_type": "stream",
     "text": [
      "[ 1.   2.8  4.6  6.4  8.2 10. ]\n",
      "[[ 1.   2.8]\n",
      " [ 4.6  6.4]\n",
      " [ 8.2 10. ]]\n",
      "[0 1 2 3 4 5 6 7]\n",
      "[[0 1 2 3]\n",
      " [4 5 6 7]]\n",
      "[[0 1]\n",
      " [2 3]\n",
      " [4 5]\n",
      " [6 7]]\n"
     ]
    }
   ],
   "source": [
    "import numpy as np\n",
    "x = np.linspace(1,10,6)\n",
    "print(x)\n",
    "x = np.linspace(1,10,6).reshape((3,2))\n",
    "print(x)\n",
    "x = np.arange(8)\n",
    "print(x)\n",
    "x = np.arange(8).reshape((2,4))\n",
    "print(x)\n",
    "x = np.arange(8).reshape((4,2))\n",
    "print(x)"
   ]
  },
  {
   "cell_type": "code",
   "execution_count": 66,
   "id": "5dd2d100-4cf7-471a-b95e-5c5eaa3855bd",
   "metadata": {},
   "outputs": [
    {
     "name": "stdout",
     "output_type": "stream",
     "text": [
      "[25.  25.5 26.  26.5 27.  27.5 28.  28.5 29.  29.5]\n"
     ]
    }
   ],
   "source": [
    "import numpy as np\n",
    "r1 = np.arange(25,30,0.5)\n",
    "print(r1)"
   ]
  },
  {
   "cell_type": "markdown",
   "id": "a93171e6-e8be-4fa0-bf58-3f589c0f1211",
   "metadata": {},
   "source": [
    "## 陣列指定位置取值\n",
    "+ 間隔選取 [::c]\n",
    "  + 以 1 維陣列來說明 x[a:b:c]\n",
    "  + a：選取資料的起始索引\n",
    "  + b：選取資料的結束索引 +1\n",
    "  + c：選取資料間隔，以索引值可以被此值整除的元素，不指定表示 1\n",
    "+ 倒序 [::-1]\n",
    "  + 只是單純的把順序反過來"
   ]
  },
  {
   "cell_type": "code",
   "execution_count": 74,
   "id": "fa690f4d-b7a1-4faf-9b2e-286a35128a33",
   "metadata": {},
   "outputs": [
    {
     "name": "stdout",
     "output_type": "stream",
     "text": [
      "[1 2 3 4 5 6 7 8 9]\n",
      "2\n",
      "[3 4 5 6 7 8 9]\n",
      "[6 7 8]\n",
      "[9 8 7 6 5 4 3 2 1]\n"
     ]
    }
   ],
   "source": [
    "import numpy as np\n",
    "a = np.arange(1,10)\n",
    "print(a)\n",
    "print(a[1])\n",
    "print(a[2:])\n",
    "print(a[-4:-1])\n",
    "print(a[::-1])"
   ]
  },
  {
   "cell_type": "code",
   "execution_count": 80,
   "id": "6585e4cb-9983-42e1-ba64-8a86ac6477ab",
   "metadata": {},
   "outputs": [
    {
     "name": "stdout",
     "output_type": "stream",
     "text": [
      "[[1 2 3]\n",
      " [4 5 6]\n",
      " [7 8 9]]\n",
      "[1 2 3]\n",
      "5\n",
      "8\n",
      "8\n"
     ]
    }
   ],
   "source": [
    "import numpy as np\n",
    "a = np.arange(1,10).reshape((3,3))\n",
    "print(a)\n",
    "print(a[0])\n",
    "print(a[1][1])\n",
    "print(a[2][1])\n",
    "print(a[2,1])"
   ]
  },
  {
   "cell_type": "code",
   "execution_count": 90,
   "id": "7e8a7f67-6165-4aca-b2e2-e036a1b1d1b6",
   "metadata": {},
   "outputs": [
    {
     "name": "stdout",
     "output_type": "stream",
     "text": [
      "[[1 2 3]\n",
      " [4 5 6]\n",
      " [7 8 9]]\n",
      "[5 6]\n",
      "====================================================================================================\n",
      "[2 5 8]\n",
      "====================================================================================================\n",
      "[[ 1  2  3]\n",
      " [ 4  5 75]\n",
      " [ 7  8  9]]\n",
      "====================================================================================================\n",
      "[[100   2   3]\n",
      " [101   5  75]\n",
      " [102   8   9]]\n"
     ]
    }
   ],
   "source": [
    "import numpy as np\n",
    "a = np.arange(1,10).reshape((3,3))\n",
    "print(a)\n",
    "print(a[1,1:3])\n",
    "print(\"=\"*100)\n",
    "print(a[:,1])\n",
    "print(\"=\"*100)\n",
    "a[1,2] = 75\n",
    "print(a)\n",
    "print(\"=\"*100)\n",
    "a[:,0] = [100,101,102]\n",
    "print(a)"
   ]
  },
  {
   "cell_type": "code",
   "execution_count": 96,
   "id": "d48061d8-1ff8-4621-b41c-b1f92bef8d4e",
   "metadata": {},
   "outputs": [
    {
     "name": "stdout",
     "output_type": "stream",
     "text": [
      "[[ 0  1  2  3  4  5]\n",
      " [ 6  7  8  9 10 11]\n",
      " [12 13 14 15 16 17]\n",
      " [18 19 20 21 22 23]\n",
      " [24 25 26 27 28 29]\n",
      " [30 31 32 33 34 35]]\n",
      "===1===\n",
      "[3 4]\n",
      "===2===\n",
      "[[28 29]\n",
      " [34 35]]\n",
      "===3===\n",
      "[[ 0  1  2]\n",
      " [ 6  7  8]\n",
      " [12 13 14]]\n",
      "===4===\n",
      "[ 2  8 14 20 26 32]\n",
      "===5===\n",
      "[[13 14]\n",
      " [19 20]\n",
      " [25 26]]\n"
     ]
    }
   ],
   "source": [
    "import numpy as np\n",
    "a = np.arange(0,36).reshape((6,6))\n",
    "print(a)\n",
    "print(\"===1===\")\n",
    "print(a[0,3:5])\n",
    "print(\"===2===\")\n",
    "print(a[4:,4:])\n",
    "print(\"===3===\")\n",
    "print(a[:3,:3])\n",
    "print(\"===4===\")\n",
    "print(a[:,2])\n",
    "print(\"===5===\")\n",
    "print(a[2:5,1:3])"
   ]
  },
  {
   "cell_type": "markdown",
   "id": "5fff13fc-cc08-485f-9f7f-f3bb260d79f5",
   "metadata": {},
   "source": [
    "## 重設新陣列\n",
    "+ resize 這個動作會依據原本的陣列再設定指定大小的新陣列。 \n",
    "+ resize 動作的參數如下：\n",
    "+ numpy.resize(arr1，shape1)\n",
    "  + arr1：原本的陣列\n",
    "  + shape1：新規劃的大小\n",
    "+ 如果規劃的新陣列比較大，將會重新複製原有陣列的資料，填滿新的儲存格。\n",
    "+ resize 這個動作***建立新的陣列***，而 reshape 則是依據原有的重新規劃，仍會受到原有陣列影響。\n",
    "+ transpose()轉置"
   ]
  },
  {
   "cell_type": "code",
   "execution_count": 100,
   "id": "918f5be1-98a5-4740-91bc-7a3c27d4fa58",
   "metadata": {},
   "outputs": [
    {
     "name": "stdout",
     "output_type": "stream",
     "text": [
      "[[1 2 3]\n",
      " [4 5 6]]\n",
      "(2, 3)\n",
      "[[1 2 3 4 5 6]]\n",
      "======================\n",
      "[[ 1 99  3]\n",
      " [ 4  5  6]]\n",
      "[[ 1 99  3  4  5  6]]\n"
     ]
    }
   ],
   "source": [
    "import numpy as np\n",
    "a = np.array([[1,2,3],\n",
    "              [4,5,6]])\n",
    "print(a)\n",
    "print(a.shape)\n",
    "b = a.reshape((1,6))\n",
    "print(b)\n",
    "print(\"======================\")\n",
    "b[0,1] = 99\n",
    "print(a)\n",
    "print(b)"
   ]
  },
  {
   "cell_type": "code",
   "execution_count": null,
   "id": "6eec6649-9b09-4c42-8adc-1ee01e1067fa",
   "metadata": {},
   "outputs": [],
   "source": []
  }
 ],
 "metadata": {
  "kernelspec": {
   "display_name": "Python 3 (ipykernel)",
   "language": "python",
   "name": "python3"
  },
  "language_info": {
   "codemirror_mode": {
    "name": "ipython",
    "version": 3
   },
   "file_extension": ".py",
   "mimetype": "text/x-python",
   "name": "python",
   "nbconvert_exporter": "python",
   "pygments_lexer": "ipython3",
   "version": "3.11.9"
  }
 },
 "nbformat": 4,
 "nbformat_minor": 5
}
