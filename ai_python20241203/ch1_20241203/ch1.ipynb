{
 "cells": [
  {
   "cell_type": "markdown",
   "id": "2e5b9eac-360b-41d3-b321-b5e11728ea40",
   "metadata": {},
   "source": [
    "# 輸出畫面"
   ]
  },
  {
   "cell_type": "code",
   "execution_count": 15,
   "id": "9c23ec4a-89b3-43fa-ba12-985d3f80ebb9",
   "metadata": {},
   "outputs": [
    {
     "name": "stdout",
     "output_type": "stream",
     "text": [
      "Test!!X\n"
     ]
    }
   ],
   "source": [
    "print(\"Test!!X\")"
   ]
  },
  {
   "cell_type": "code",
   "execution_count": 19,
   "id": "d09ab887-666c-4fa9-8fdc-009ae09aa9be",
   "metadata": {},
   "outputs": [
    {
     "name": "stdout",
     "output_type": "stream",
     "text": [
      "Test!!!!!\n"
     ]
    }
   ],
   "source": [
    "print(\"Test!!!!!\")"
   ]
  },
  {
   "cell_type": "markdown",
   "id": "c2a30ce5-6421-45c9-9d27-8c48d2fbe060",
   "metadata": {},
   "source": [
    "# 直譯 JavaScript"
   ]
  },
  {
   "cell_type": "code",
   "execution_count": 22,
   "id": "537f1c92-1b4f-4db1-bb93-6cc12cfd52a9",
   "metadata": {},
   "outputs": [
    {
     "name": "stdout",
     "output_type": "stream",
     "text": [
      "XXXX\n"
     ]
    }
   ],
   "source": [
    "print(\"XXXX\")"
   ]
  },
  {
   "cell_type": "markdown",
   "id": "3db2c204-f9ba-4c7b-94da-5436de7005e4",
   "metadata": {},
   "source": [
    "## 變數\n",
    "\n",
    "## 指定運算子"
   ]
  },
  {
   "cell_type": "code",
   "execution_count": 3,
   "id": "d6062cab-f2e2-415a-8107-a0cb4409403e",
   "metadata": {},
   "outputs": [
    {
     "name": "stdout",
     "output_type": "stream",
     "text": [
      "30\n"
     ]
    }
   ],
   "source": [
    "x = 10\n",
    "y = 20\n",
    "c = x + y\n",
    "print(c)"
   ]
  },
  {
   "cell_type": "code",
   "execution_count": 4,
   "id": "c946fee4-f10e-4b19-9194-5d84bf44be9a",
   "metadata": {},
   "outputs": [
    {
     "name": "stdout",
     "output_type": "stream",
     "text": [
      "10\n",
      "20\n"
     ]
    }
   ],
   "source": [
    "print(x)\n",
    "print(y)"
   ]
  },
  {
   "cell_type": "markdown",
   "id": "8ab07916-59d3-4e63-8f47-90ca1b3cbacc",
   "metadata": {},
   "source": [
    "### 沒有小數點的數值 整數 Integer\n",
    "### 有小數點的數值 浮點數 Float\n",
    "### 字串 文字 String\n",
    "### 物件類型 Object <=== 所有都是這種類型"
   ]
  },
  {
   "cell_type": "code",
   "execution_count": 5,
   "id": "0fb313bc-9065-4417-a901-914d83511b8d",
   "metadata": {},
   "outputs": [
    {
     "name": "stdout",
     "output_type": "stream",
     "text": [
      "180.5\n"
     ]
    }
   ],
   "source": [
    "height = 180.5\n",
    "print(height)"
   ]
  },
  {
   "cell_type": "markdown",
   "id": "b69e398f-cf21-4eb9-841f-95da2fb06f2c",
   "metadata": {},
   "source": [
    "## 很重要的函數 type() 可以返回變數類型"
   ]
  },
  {
   "cell_type": "code",
   "execution_count": 9,
   "id": "178163b1-1a82-4fc5-a9b4-16ee6c96816c",
   "metadata": {},
   "outputs": [
    {
     "name": "stdout",
     "output_type": "stream",
     "text": [
      "<class 'float'>\n"
     ]
    }
   ],
   "source": [
    "print(type(height))"
   ]
  },
  {
   "cell_type": "code",
   "execution_count": 10,
   "id": "ff7f96e7-5c7b-4c9e-b09b-bd0720e433ec",
   "metadata": {},
   "outputs": [
    {
     "name": "stdout",
     "output_type": "stream",
     "text": [
      "<class 'int'>\n"
     ]
    }
   ],
   "source": [
    "print(type(x))"
   ]
  },
  {
   "cell_type": "code",
   "execution_count": null,
   "id": "e30ec0f3-0bac-4ad2-a0ec-941893b96495",
   "metadata": {},
   "outputs": [],
   "source": []
  }
 ],
 "metadata": {
  "kernelspec": {
   "display_name": "Python 3 (ipykernel)",
   "language": "python",
   "name": "python3"
  },
  "language_info": {
   "codemirror_mode": {
    "name": "ipython",
    "version": 3
   },
   "file_extension": ".py",
   "mimetype": "text/x-python",
   "name": "python",
   "nbconvert_exporter": "python",
   "pygments_lexer": "ipython3",
   "version": "3.11.9"
  }
 },
 "nbformat": 4,
 "nbformat_minor": 5
}
