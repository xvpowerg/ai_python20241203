{
 "cells": [
  {
   "cell_type": "code",
   "execution_count": 2,
   "id": "117d108c-1bf9-4d40-9476-76208a545f7a",
   "metadata": {},
   "outputs": [
    {
     "name": "stdin",
     "output_type": "stream",
     "text": [
      "請輸入水果(Enter結束) 木瓜\n"
     ]
    },
    {
     "name": "stdout",
     "output_type": "stream",
     "text": [
      "木瓜不在清單內\n"
     ]
    },
    {
     "name": "stdin",
     "output_type": "stream",
     "text": [
      "請輸入水果(Enter結束) 西瓜\n"
     ]
    },
    {
     "name": "stdout",
     "output_type": "stream",
     "text": [
      "西瓜在清單內第3\n"
     ]
    },
    {
     "name": "stdin",
     "output_type": "stream",
     "text": [
      "請輸入水果(Enter結束) \n"
     ]
    }
   ],
   "source": [
    "fruits = [\"香蕉\",\"蘋果\",\"橘子\",\"西瓜\"]\n",
    "while True:\n",
    "    fr = input(\"請輸入水果(Enter結束)\") \n",
    "    if fr == \"\":\n",
    "        break\n",
    "    if fr in  fruits:\n",
    "        i = fruits.index(fr)\n",
    "        print(f\"{fr}在清單內第{i}\")\n",
    "    else:\n",
    "        print(f\"{fr}不在清單內\")"
   ]
  },
  {
   "cell_type": "code",
   "execution_count": 6,
   "id": "1574cdd2-9b2e-4155-b487-a8bc32226abf",
   "metadata": {},
   "outputs": [
    {
     "name": "stdout",
     "output_type": "stream",
     "text": [
      "ans:0.333\n"
     ]
    }
   ],
   "source": [
    "v1 = 1\n",
    "v2 = 3\n",
    "ans = v1 / v2\n",
    "print(f\"ans:{ans:.3f}\")"
   ]
  },
  {
   "cell_type": "markdown",
   "id": "18f76592-e631-47be-902c-1b003e0e5e15",
   "metadata": {},
   "source": [
    "## Dictionary\n",
    "\n",
    "資料結構是由 key:value 所組成。\n",
    "\n",
    "key 不能夠重複，否則會被後面的結果蓋過去。\n",
    "\n",
    "可輸入 key 找尋您要找出來的值。\n",
    "\n",
    "如果輸入的 key 不存在，那就會出現錯誤訊息。\n",
    "\n",
    "key 只能是 字串 數字 tuple"
   ]
  },
  {
   "cell_type": "code",
   "execution_count": 10,
   "id": "e6dd89c3-8726-44ef-a120-7c91361451b5",
   "metadata": {},
   "outputs": [
    {
     "name": "stdout",
     "output_type": "stream",
     "text": [
      "{'a': 100, 'b': 200, 'c': 300}\n",
      "100\n",
      "300\n"
     ]
    },
    {
     "ename": "KeyError",
     "evalue": "'g'",
     "output_type": "error",
     "traceback": [
      "\u001b[1;31m---------------------------------------------------------------------------\u001b[0m",
      "\u001b[1;31mKeyError\u001b[0m                                  Traceback (most recent call last)",
      "Cell \u001b[1;32mIn[10], line 5\u001b[0m\n\u001b[0;32m      3\u001b[0m \u001b[38;5;28mprint\u001b[39m(dict1[\u001b[38;5;124m\"\u001b[39m\u001b[38;5;124ma\u001b[39m\u001b[38;5;124m\"\u001b[39m])\n\u001b[0;32m      4\u001b[0m \u001b[38;5;28mprint\u001b[39m(dict1[\u001b[38;5;124m\"\u001b[39m\u001b[38;5;124mc\u001b[39m\u001b[38;5;124m\"\u001b[39m])\n\u001b[1;32m----> 5\u001b[0m \u001b[38;5;28mprint\u001b[39m(dict1[\u001b[38;5;124m\"\u001b[39m\u001b[38;5;124mg\u001b[39m\u001b[38;5;124m\"\u001b[39m])\n",
      "\u001b[1;31mKeyError\u001b[0m: 'g'"
     ]
    }
   ],
   "source": [
    "dict1 = {\"a\":100,\"b\":200,\"c\":300}\n",
    "print(dict1)\n",
    "print(dict1[\"a\"])\n",
    "print(dict1[\"c\"])\n",
    "print(dict1[\"g\"])"
   ]
  },
  {
   "cell_type": "code",
   "execution_count": 11,
   "id": "a7752e51-2c8d-4139-8494-34eb899fd83b",
   "metadata": {},
   "outputs": [
    {
     "name": "stdout",
     "output_type": "stream",
     "text": [
      "100\n",
      "300\n"
     ]
    }
   ],
   "source": [
    "dict2 = {\"a\":100,\"b\":200,\"b\":300}\n",
    "print(dict2[\"a\"])\n",
    "print(dict2[\"b\"])#key重複蓋過去"
   ]
  },
  {
   "cell_type": "markdown",
   "id": "2b415621-1548-4c5a-8239-d68cfba388ea",
   "metadata": {},
   "source": [
    "## key 與 value\n",
    "+ key 不能於程式內改變：\n",
    "  + 可以用數字、字串或者 tuple。\n",
    "  + 不可以使用 list。\n",
    "+ 如何找出所有的 key 與 value？\n",
    "  + 您可以透過 dict1.keys( ) 這個方法找出所有的 key。\n",
    "  + 您可以透過 dict1.values( ) 這個方法找出所有的 value。"
   ]
  },
  {
   "cell_type": "code",
   "execution_count": 12,
   "id": "9070ce50-9ff1-432f-8c00-b895658653c1",
   "metadata": {},
   "outputs": [],
   "source": [
    "dict1 = {\"a\":100,\"b\":200,\"c\":300}\n"
   ]
  },
  {
   "cell_type": "code",
   "execution_count": 16,
   "id": "b7e3a0ba-a143-4b77-ad77-f6039a88214f",
   "metadata": {},
   "outputs": [
    {
     "name": "stdout",
     "output_type": "stream",
     "text": [
      "a 100\n",
      "b 200\n",
      "c 300\n",
      "=====================\n",
      "100\n",
      "200\n",
      "300\n",
      "=====================\n",
      "a 100\n",
      "b 200\n",
      "c 300\n"
     ]
    }
   ],
   "source": [
    "for key in dict1.keys():\n",
    "    print(key,dict1[key])\n",
    "print(\"=====================\")    \n",
    "for v in dict1.values():\n",
    "    print(v)\n",
    "print(\"=====================\")\n",
    "for xxx in dict1:\n",
    "    print(xxx,dict1[xxx])"
   ]
  },
  {
   "cell_type": "code",
   "execution_count": 21,
   "id": "d29767dd-427f-489a-bb25-806c29f7e92e",
   "metadata": {},
   "outputs": [
    {
     "name": "stdout",
     "output_type": "stream",
     "text": [
      "{'ken': 95, 'value': 95, 'lucy': 88}\n",
      "{'ken': 95, 'value': 95, 'lucy': 88, 'gigi': 65}\n",
      "{'ken': 95, 'value': 100, 'lucy': 88, 'gigi': 65}\n",
      "{'ken': 95, 'value': 100, 'lucy': 88, 'gigi': 65, 'ben': 82}\n"
     ]
    }
   ],
   "source": [
    "dict2 = {\"ken\":100,\"value\":95,\"lucy\":72}\n",
    "dict2.update({\"ken\":95,\"lucy\":88})\n",
    "print(dict2)\n",
    "dict2.update({\"gigi\":65})#key不存在新增\n",
    "print(dict2)\n",
    "dict2[\"value\"] = 100\n",
    "print(dict2)\n",
    "dict2[\"ben\"]= 82#key不存在新增\n",
    "print(dict2)"
   ]
  },
  {
   "cell_type": "markdown",
   "id": "6cad7e46-755d-40cc-873c-fb00c9af629b",
   "metadata": {},
   "source": [
    "## del \n",
    "\n",
    "del dict[key]    刪除某一個 key 的資料\n",
    "\n",
    "dict.clear( )     清除所有項目\n",
    "\n",
    "del dict           刪除字典"
   ]
  },
  {
   "cell_type": "code",
   "execution_count": 25,
   "id": "dadff6db-c5b2-435b-8a48-d8ed3d60b3af",
   "metadata": {},
   "outputs": [
    {
     "name": "stdout",
     "output_type": "stream",
     "text": [
      "{'ken': 100, 'vivin': 95, 'lucy': 72, 'lindy': 81}\n",
      "{'ken': 100, 'lucy': 72, 'lindy': 81}\n",
      "{}\n"
     ]
    }
   ],
   "source": [
    "dict2 = {'ken':100,'vivin':95,'lucy':72,\"lindy\":81}\n",
    "print(dict2)\n",
    "del dict2[\"vivin\"]\n",
    "print(dict2)\n",
    "dict2.clear()\n",
    "print(dict2)"
   ]
  },
  {
   "cell_type": "code",
   "execution_count": 29,
   "id": "a4bd0273-81e0-4362-a45b-c1703e5ffb44",
   "metadata": {},
   "outputs": [
    {
     "name": "stdout",
     "output_type": "stream",
     "text": [
      "{'a': 100, 'b': 200, 'c': 300}\n",
      "{'a': 100, 'c': 300}\n"
     ]
    },
    {
     "ename": "KeyError",
     "evalue": "'b'",
     "output_type": "error",
     "traceback": [
      "\u001b[1;31m---------------------------------------------------------------------------\u001b[0m",
      "\u001b[1;31mKeyError\u001b[0m                                  Traceback (most recent call last)",
      "Cell \u001b[1;32mIn[29], line 5\u001b[0m\n\u001b[0;32m      3\u001b[0m \u001b[38;5;28;01mdel\u001b[39;00m dict3[\u001b[38;5;124m\"\u001b[39m\u001b[38;5;124mb\u001b[39m\u001b[38;5;124m\"\u001b[39m]\n\u001b[0;32m      4\u001b[0m \u001b[38;5;28mprint\u001b[39m(dict3)\n\u001b[1;32m----> 5\u001b[0m \u001b[38;5;28;01mdel\u001b[39;00m dict3[\u001b[38;5;124m\"\u001b[39m\u001b[38;5;124mb\u001b[39m\u001b[38;5;124m\"\u001b[39m]\n",
      "\u001b[1;31mKeyError\u001b[0m: 'b'"
     ]
    }
   ],
   "source": [
    "dict3 = {\"a\":100,\"b\":200,\"c\":300}\n",
    "print(dict3)\n",
    "del dict3[\"b\"]\n",
    "print(dict3)\n",
    "del dict3[\"b\"]#key不存在不可移除"
   ]
  },
  {
   "cell_type": "code",
   "execution_count": 34,
   "id": "68073775-7a51-46b3-97d0-24f620100a22",
   "metadata": {},
   "outputs": [
    {
     "name": "stdout",
     "output_type": "stream",
     "text": [
      "True\n",
      "已刪除\n"
     ]
    }
   ],
   "source": [
    "dict3 = {\"a\":100,\"b\":200,\"c\":300}\n",
    "delKey = \"b\"\n",
    "print(delKey in dict3)\n",
    "if delKey in dict3:\n",
    "    del dict3[delKey]\n",
    "    print(\"已刪除\")\n",
    "else:\n",
    "    print(\"無法刪除\")"
   ]
  },
  {
   "cell_type": "markdown",
   "id": "abc41f3c-5f65-4ed0-8368-d077b407432f",
   "metadata": {},
   "source": [
    "## 自訂函數的運用\n",
    "\n",
    "#### 程式設計時儘量減少相同語法的重複出現，為什麼?\n",
    "\n",
    "修改時可能忘記其他地方沒有改，導致程式執行出現錯誤結果。\n",
    "\n",
    "減少重複語法對於之後的維修會比較方便。\n",
    "\n",
    "\n",
    "#### 要如何減少重複的相同語法?\n",
    "\n",
    "把重複的相同語法當作工具看待，需要的時候呼叫他。\n",
    "\n",
    "這種工具於程式語法內叫做函數(function)。"
   ]
  },
  {
   "cell_type": "code",
   "execution_count": 35,
   "id": "6cf750d0-2240-4563-9ebf-2964b0fed3e9",
   "metadata": {},
   "outputs": [
    {
     "name": "stdout",
     "output_type": "stream",
     "text": [
      "1 2 3 4 5 6 7 8 9 10 "
     ]
    }
   ],
   "source": [
    "#1~10\n",
    "for i in range(1,11):\n",
    "    print(i,end=\" \")"
   ]
  },
  {
   "cell_type": "code",
   "execution_count": 47,
   "id": "639487a6-e540-4468-8bb1-4711fcf4090c",
   "metadata": {},
   "outputs": [
    {
     "name": "stdout",
     "output_type": "stream",
     "text": [
      "1 2 3 4 5 6 7 8 9 10 \n",
      "====================\n",
      "1 2 3 4 5 \n",
      "====================\n",
      "3 4 5 6 7 8 "
     ]
    }
   ],
   "source": [
    "for i in range(1,11):\n",
    "    print(i ,end=\" \")    \n",
    "print()    \n",
    "print(\"====================\")\n",
    "for i in range(1,6):\n",
    "    print(i,end=\" \")\n",
    "print()    \n",
    "print(\"====================\")\n",
    "for i in range(3,9):\n",
    "    print(i,end=\" \")    "
   ]
  },
  {
   "cell_type": "code",
   "execution_count": 44,
   "id": "c0baac2d-709d-4d70-8dcf-35db277239b9",
   "metadata": {},
   "outputs": [
    {
     "name": "stdout",
     "output_type": "stream",
     "text": [
      "呼叫我了\n",
      "呼叫我了\n",
      "呼叫我了\n",
      "呼叫我了\n"
     ]
    }
   ],
   "source": [
    "def showMsg():\n",
    "    print(\"呼叫我了\")\n",
    "showMsg()    \n",
    "showMsg() \n",
    "showMsg() \n",
    "showMsg() "
   ]
  },
  {
   "cell_type": "code",
   "execution_count": 49,
   "id": "d057d0a1-c36a-4973-b34f-3c57802ea1dd",
   "metadata": {},
   "outputs": [
    {
     "name": "stdout",
     "output_type": "stream",
     "text": [
      "5+2=7\n",
      "8+6=14\n"
     ]
    }
   ],
   "source": [
    "def mySum(a,b):\n",
    "    ans = a + b\n",
    "    print(f\"{a}+{b}={ans}\")\n",
    "mySum(5,2)    \n",
    "mySum(8,6)    "
   ]
  },
  {
   "cell_type": "code",
   "execution_count": 51,
   "id": "724dc4c8-4e1a-40a3-92af-52746d8e3008",
   "metadata": {},
   "outputs": [
    {
     "name": "stdout",
     "output_type": "stream",
     "text": [
      "1 2 3 4 5 6 7 8 9 10 \n",
      "====================\n",
      "3 4 5 6 \n",
      "====================\n"
     ]
    }
   ],
   "source": [
    "def showForLoop(s,e):\n",
    "    for i in range(s,e+1):\n",
    "        print(i,end=\" \")\n",
    "    print()    \n",
    "    print(\"=\"*20)\n",
    "showForLoop(1,10)\n",
    "showForLoop(3,6) "
   ]
  },
  {
   "cell_type": "code",
   "execution_count": 57,
   "id": "3fdc2d01-91f9-4ce6-afb6-4fcf1dd0c0c7",
   "metadata": {},
   "outputs": [
    {
     "data": {
      "text/plain": [
       "100"
      ]
     },
     "execution_count": 57,
     "metadata": {},
     "output_type": "execute_result"
    }
   ],
   "source": [
    "def funX(x):\n",
    "    ans = x ** 2\n",
    "    return ans\n",
    "y = funX(10)    \n",
    "print(\"y:\",y)"
   ]
  },
  {
   "cell_type": "code",
   "execution_count": 56,
   "id": "a91e95e2-9e6d-4065-94bb-ed57434236c5",
   "metadata": {},
   "outputs": [
    {
     "data": {
      "image/png": "[encoded data removed]",
      "text/plain": [
       "<Figure size 640x480 with 1 Axes>"
      ]
     },
     "metadata": {},
     "output_type": "display_data"
    }
   ],
   "source": [
    "import matplotlib.pyplot as plt\n",
    "def funcX(x):\n",
    "    ans = x ** 2\n",
    "    return ans\n",
    "x_values = list(range(-100,101))\n",
    "y_values = [funcX(x) for x in x_values]\n",
    "#print(y_values)\n",
    "plt.plot(x_values,y_values)\n",
    "plt.xlabel(\"x\")\n",
    "plt.ylabel(\"y\")\n",
    "plt.show()"
   ]
  },
  {
   "cell_type": "code",
   "execution_count": 69,
   "id": "8557d5b3-784d-4ca6-b363-2b1324007659",
   "metadata": {},
   "outputs": [
    {
     "name": "stdout",
     "output_type": "stream",
     "text": [
      "(7, 10, 25)\n",
      "5 6 9\n",
      "5\n",
      "[6, 9]\n"
     ]
    }
   ],
   "source": [
    "def func3(v1):\n",
    "    a1 = v1 + 2\n",
    "    a2 = v1 * 2\n",
    "    a3 = v1 ** 2\n",
    "    return a1,a2,a3\n",
    "t = func3(5)\n",
    "print(t)\n",
    "x,y,z = func3(3)\n",
    "print(x,y,z)\n",
    "q,*_ = func3(3)#* 意思是剩下的都放到他\n",
    "print(q)\n",
    "print(_)"
   ]
  },
  {
   "cell_type": "markdown",
   "id": "4d1dd2e0-eecb-4473-8d80-9dbc700c28dd",
   "metadata": {},
   "source": [
    "## 變數影響範圍\n",
    "+ 函數外的變數：\n",
    "  + 函數內可以顯示該變數內容\n",
    "  + 不屬於函數的區域內都可以使用\n",
    "+ 函數內的變數：\n",
    "  + 只在函數內產生效果，不會影響函數外的變數\n",
    "  + 若函數內沒有進行變數宣告而進行改變內容動作將會產生錯誤訊息!"
   ]
  },
  {
   "cell_type": "code",
   "execution_count": 70,
   "id": "6f4111d0-142d-4b8e-b2bb-c1b49d24d28c",
   "metadata": {},
   "outputs": [
    {
     "name": "stdout",
     "output_type": "stream",
     "text": [
      "函數外1: 5\n",
      "函數內: 10\n",
      "函數外2: 5\n"
     ]
    }
   ],
   "source": [
    "a = 5\n",
    "def func1():\n",
    "    a = 10\n",
    "    print(\"函數內:\",a)\n",
    "    \n",
    "print(\"函數外1:\",a)\n",
    "func1()\n",
    "print(\"函數外2:\",a)"
   ]
  },
  {
   "cell_type": "code",
   "execution_count": 71,
   "id": "6e40c39f-d618-43dd-956b-5e494c469067",
   "metadata": {},
   "outputs": [
    {
     "name": "stdout",
     "output_type": "stream",
     "text": [
      "函數外1: 5\n",
      "函數內: 5\n",
      "函數外2: 5\n"
     ]
    }
   ],
   "source": [
    "a = 5\n",
    "def func1():\n",
    "    print(\"函數內:\",a)\n",
    "    \n",
    "print(\"函數外1:\",a)\n",
    "func1()\n",
    "print(\"函數外2:\",a)"
   ]
  },
  {
   "cell_type": "code",
   "execution_count": 73,
   "id": "4dd36f72-caad-4635-870b-0fbd1d2f65d8",
   "metadata": {},
   "outputs": [
    {
     "name": "stdout",
     "output_type": "stream",
     "text": [
      "函數外1: 5\n"
     ]
    },
    {
     "ename": "UnboundLocalError",
     "evalue": "cannot access local variable 'a' where it is not associated with a value",
     "output_type": "error",
     "traceback": [
      "\u001b[1;31m---------------------------------------------------------------------------\u001b[0m",
      "\u001b[1;31mUnboundLocalError\u001b[0m                         Traceback (most recent call last)",
      "Cell \u001b[1;32mIn[73], line 7\u001b[0m\n\u001b[0;32m      4\u001b[0m     \u001b[38;5;28mprint\u001b[39m(\u001b[38;5;124m\"\u001b[39m\u001b[38;5;124m函數內:\u001b[39m\u001b[38;5;124m\"\u001b[39m,a)\n\u001b[0;32m      6\u001b[0m \u001b[38;5;28mprint\u001b[39m(\u001b[38;5;124m\"\u001b[39m\u001b[38;5;124m函數外1:\u001b[39m\u001b[38;5;124m\"\u001b[39m,a)\n\u001b[1;32m----> 7\u001b[0m func1()\n\u001b[0;32m      8\u001b[0m \u001b[38;5;28mprint\u001b[39m(\u001b[38;5;124m\"\u001b[39m\u001b[38;5;124m函數外2:\u001b[39m\u001b[38;5;124m\"\u001b[39m,a)\n",
      "Cell \u001b[1;32mIn[73], line 3\u001b[0m, in \u001b[0;36mfunc1\u001b[1;34m()\u001b[0m\n\u001b[0;32m      2\u001b[0m \u001b[38;5;28;01mdef\u001b[39;00m \u001b[38;5;21mfunc1\u001b[39m():\n\u001b[1;32m----> 3\u001b[0m     a \u001b[38;5;241m+\u001b[39m\u001b[38;5;241m=\u001b[39m \u001b[38;5;241m1\u001b[39m \u001b[38;5;66;03m#想修改外部的a 預設不可修改\u001b[39;00m\n\u001b[0;32m      4\u001b[0m     \u001b[38;5;28mprint\u001b[39m(\u001b[38;5;124m\"\u001b[39m\u001b[38;5;124m函數內:\u001b[39m\u001b[38;5;124m\"\u001b[39m,a)\n",
      "\u001b[1;31mUnboundLocalError\u001b[0m: cannot access local variable 'a' where it is not associated with a value"
     ]
    }
   ],
   "source": [
    "a = 5\n",
    "def func1():\n",
    "    a += 1 #想修改外部的a 預設不可修改\n",
    "    print(\"函數內:\",a)\n",
    "    \n",
    "print(\"函數外1:\",a)\n",
    "func1()\n",
    "print(\"函數外2:\",a)"
   ]
  },
  {
   "cell_type": "code",
   "execution_count": 74,
   "id": "a0d74760-5d15-49ed-af6f-ac5d1f5d9dc2",
   "metadata": {},
   "outputs": [
    {
     "name": "stdout",
     "output_type": "stream",
     "text": [
      "函數外1: 5\n",
      "函數內: 6\n",
      "函數外2: 6\n"
     ]
    }
   ],
   "source": [
    "a = 5\n",
    "def func1():\n",
    "    global a #跟python說要使用外部的變數\n",
    "    a += 1 #想修改外部的a 預設不可修改\n",
    "    print(\"函數內:\",a)\n",
    "    \n",
    "print(\"函數外1:\",a)\n",
    "func1()\n",
    "print(\"函數外2:\",a)"
   ]
  },
  {
   "cell_type": "code",
   "execution_count": null,
   "id": "aadd9a66-3b7e-4f6a-9ee1-69fddfb76cca",
   "metadata": {},
   "outputs": [],
   "source": []
  }
 ],
 "metadata": {
  "kernelspec": {
   "display_name": "Python 3 (ipykernel)",
   "language": "python",
   "name": "python3"
  },
  "language_info": {
   "codemirror_mode": {
    "name": "ipython",
    "version": 3
   },
   "file_extension": ".py",
   "mimetype": "text/x-python",
   "name": "python",
   "nbconvert_exporter": "python",
   "pygments_lexer": "ipython3",
   "version": "3.11.9"
  }
 },
 "nbformat": 4,
 "nbformat_minor": 5
}
